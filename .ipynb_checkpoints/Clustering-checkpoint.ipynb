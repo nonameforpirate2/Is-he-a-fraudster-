{
 "cells": [
  {
   "cell_type": "code",
   "execution_count": 1,
   "metadata": {},
   "outputs": [],
   "source": [
    "import pandas as pd\n",
    "import numpy as np\n",
    "import os\n",
    "from sklearn.preprocessing import MinMaxScaler\n",
    "from sklearn.model_selection import train_test_split\n",
    "from sklearn.cluster import DBSCAN\n",
    "import matplotlib.pyplot as plt\n",
    "from sklearn.metrics import silhouette_score\n",
    "from sklearn.decomposition import PCA\n",
    "from sklearn.cluster import KMeans\n",
    "from sklearn.cluster import AgglomerativeClustering"
   ]
  },
  {
   "cell_type": "code",
   "execution_count": 2,
   "metadata": {},
   "outputs": [],
   "source": [
    "# Load info_01.csv\n",
    "df1 = pd.read_csv(\"ds\\\\info_01.csv\")\n",
    "def check_diff(arr1,arr2):\n",
    "    arr3 = arr1 - arr2\n",
    "    return sum(arr3)"
   ]
  },
  {
   "cell_type": "code",
   "execution_count": 3,
   "metadata": {},
   "outputs": [],
   "source": [
    "df1 = pd.read_csv(\"ds\\\\info_01.csv\").drop_duplicates()"
   ]
  },
  {
   "cell_type": "code",
   "execution_count": 4,
   "metadata": {},
   "outputs": [
    {
     "data": {
      "text/plain": [
       "0"
      ]
     },
     "execution_count": 4,
     "metadata": {},
     "output_type": "execute_result"
    }
   ],
   "source": [
    "#Apparently id and id2 are the same lets check with a quick aggregation\n",
    "check_diff(df1[\"id\"],df1[\"id2\"])"
   ]
  },
  {
   "cell_type": "code",
   "execution_count": 5,
   "metadata": {},
   "outputs": [],
   "source": [
    "df2 = pd.read_csv(\"ds\\\\info_02.csv\")"
   ]
  },
  {
   "cell_type": "code",
   "execution_count": 6,
   "metadata": {},
   "outputs": [
    {
     "data": {
      "text/plain": [
       "0"
      ]
     },
     "execution_count": 6,
     "metadata": {},
     "output_type": "execute_result"
    }
   ],
   "source": [
    "# I do have the same problem as in dataset 1. The id and id2 seems to be the same. Let me do a quick verification.\n",
    "check_diff(df2[\"id\"],df2[\"id2\"])"
   ]
  },
  {
   "cell_type": "markdown",
   "metadata": {},
   "source": [
    "Given the information above it was found that both datasets can use only one attribute related to the id. Thus, I am going to leave only id. "
   ]
  },
  {
   "cell_type": "code",
   "execution_count": 7,
   "metadata": {},
   "outputs": [],
   "source": [
    "df1 = df1.drop(columns=[\"id2\"])\n",
    "df2 = df2.drop(columns=[\"id2\"])"
   ]
  },
  {
   "cell_type": "code",
   "execution_count": 8,
   "metadata": {},
   "outputs": [
    {
     "name": "stdout",
     "output_type": "stream",
     "text": [
      "amount of good registers in info_01  8143\n",
      "amount of good registers in info_02  9143\n"
     ]
    }
   ],
   "source": [
    "df2 = df2.drop_duplicates()\n",
    "print(\"amount of good registers in info_01 \",len(df1))\n",
    "print(\"amount of good registers in info_02 \",len(df2))"
   ]
  },
  {
   "cell_type": "code",
   "execution_count": 9,
   "metadata": {},
   "outputs": [],
   "source": [
    "df_final = df2.merge(df1, how='left', on=['id'])"
   ]
  },
  {
   "cell_type": "markdown",
   "metadata": {},
   "source": [
    "# Feature Engineering"
   ]
  },
  {
   "cell_type": "code",
   "execution_count": 10,
   "metadata": {},
   "outputs": [],
   "source": [
    "def get_date(string):\n",
    "    return pd.to_datetime(string)\n",
    "def get_day(date):\n",
    "    return date.day\n",
    "def get_hour(date):\n",
    "    return date.hour\n",
    "def get_min(date):\n",
    "    return date.minute\n",
    "def get_second(date):\n",
    "    return date.second\n",
    "#df_final = df_final.drop(columns=[\"id\",\"v3\",\"c1\"])"
   ]
  },
  {
   "cell_type": "code",
   "execution_count": 11,
   "metadata": {},
   "outputs": [],
   "source": [
    "df_final[\"v3\"] = list(map(get_date,df_final[\"v3\"]))\n",
    "df_final[\"day\"] = list(map(get_day, df_final[\"v3\"]))\n",
    "df_final[\"hour\"] = list(map(get_hour, df_final[\"v3\"]))\n",
    "df_final[\"minute\"] = list(map(get_min, df_final[\"v3\"]))\n",
    "df_final[\"second\"] = list(map(get_second, df_final[\"v3\"]))\n",
    "df_final[\"v7\"] = df_final[\"v4\"] - df_final[\"v1\"]"
   ]
  },
  {
   "cell_type": "code",
   "execution_count": 12,
   "metadata": {},
   "outputs": [],
   "source": [
    "df_final = df_final.drop(columns=[\"c1\",\"id\",\"v3\"])"
   ]
  },
  {
   "cell_type": "code",
   "execution_count": 13,
   "metadata": {},
   "outputs": [
    {
     "data": {
      "text/html": [
       "<div>\n",
       "<style scoped>\n",
       "    .dataframe tbody tr th:only-of-type {\n",
       "        vertical-align: middle;\n",
       "    }\n",
       "\n",
       "    .dataframe tbody tr th {\n",
       "        vertical-align: top;\n",
       "    }\n",
       "\n",
       "    .dataframe thead th {\n",
       "        text-align: right;\n",
       "    }\n",
       "</style>\n",
       "<table border=\"1\" class=\"dataframe\">\n",
       "  <thead>\n",
       "    <tr style=\"text-align: right;\">\n",
       "      <th></th>\n",
       "      <th>v1</th>\n",
       "      <th>v2</th>\n",
       "      <th>v4</th>\n",
       "      <th>v5</th>\n",
       "      <th>v6</th>\n",
       "      <th>day</th>\n",
       "      <th>hour</th>\n",
       "      <th>minute</th>\n",
       "      <th>second</th>\n",
       "      <th>v7</th>\n",
       "    </tr>\n",
       "  </thead>\n",
       "  <tbody>\n",
       "    <tr>\n",
       "      <th>0</th>\n",
       "      <td>426.0</td>\n",
       "      <td>23.2</td>\n",
       "      <td>721.2</td>\n",
       "      <td>27.3</td>\n",
       "      <td>0.004793</td>\n",
       "      <td>4.0</td>\n",
       "      <td>17.0</td>\n",
       "      <td>51.0</td>\n",
       "      <td>0.0</td>\n",
       "      <td>295.2</td>\n",
       "    </tr>\n",
       "    <tr>\n",
       "      <th>1</th>\n",
       "      <td>429.5</td>\n",
       "      <td>23.1</td>\n",
       "      <td>714.0</td>\n",
       "      <td>27.3</td>\n",
       "      <td>0.004783</td>\n",
       "      <td>4.0</td>\n",
       "      <td>17.0</td>\n",
       "      <td>51.0</td>\n",
       "      <td>59.0</td>\n",
       "      <td>284.5</td>\n",
       "    </tr>\n",
       "    <tr>\n",
       "      <th>2</th>\n",
       "      <td>426.0</td>\n",
       "      <td>23.1</td>\n",
       "      <td>713.5</td>\n",
       "      <td>27.2</td>\n",
       "      <td>0.004779</td>\n",
       "      <td>4.0</td>\n",
       "      <td>17.0</td>\n",
       "      <td>53.0</td>\n",
       "      <td>0.0</td>\n",
       "      <td>287.5</td>\n",
       "    </tr>\n",
       "    <tr>\n",
       "      <th>3</th>\n",
       "      <td>426.0</td>\n",
       "      <td>23.1</td>\n",
       "      <td>708.2</td>\n",
       "      <td>27.2</td>\n",
       "      <td>0.004772</td>\n",
       "      <td>4.0</td>\n",
       "      <td>17.0</td>\n",
       "      <td>54.0</td>\n",
       "      <td>0.0</td>\n",
       "      <td>282.2</td>\n",
       "    </tr>\n",
       "    <tr>\n",
       "      <th>4</th>\n",
       "      <td>426.0</td>\n",
       "      <td>23.1</td>\n",
       "      <td>704.5</td>\n",
       "      <td>27.2</td>\n",
       "      <td>0.004757</td>\n",
       "      <td>4.0</td>\n",
       "      <td>17.0</td>\n",
       "      <td>55.0</td>\n",
       "      <td>0.0</td>\n",
       "      <td>278.5</td>\n",
       "    </tr>\n",
       "    <tr>\n",
       "      <th>...</th>\n",
       "      <td>...</td>\n",
       "      <td>...</td>\n",
       "      <td>...</td>\n",
       "      <td>...</td>\n",
       "      <td>...</td>\n",
       "      <td>...</td>\n",
       "      <td>...</td>\n",
       "      <td>...</td>\n",
       "      <td>...</td>\n",
       "      <td>...</td>\n",
       "    </tr>\n",
       "    <tr>\n",
       "      <th>9138</th>\n",
       "      <td>65.7</td>\n",
       "      <td>19.2</td>\n",
       "      <td>423.3</td>\n",
       "      <td>30.8</td>\n",
       "      <td>0.004235</td>\n",
       "      <td>NaN</td>\n",
       "      <td>NaN</td>\n",
       "      <td>NaN</td>\n",
       "      <td>NaN</td>\n",
       "      <td>357.6</td>\n",
       "    </tr>\n",
       "    <tr>\n",
       "      <th>9139</th>\n",
       "      <td>0.0</td>\n",
       "      <td>19.3</td>\n",
       "      <td>463.0</td>\n",
       "      <td>26.1</td>\n",
       "      <td>0.003606</td>\n",
       "      <td>NaN</td>\n",
       "      <td>NaN</td>\n",
       "      <td>NaN</td>\n",
       "      <td>NaN</td>\n",
       "      <td>463.0</td>\n",
       "    </tr>\n",
       "    <tr>\n",
       "      <th>9140</th>\n",
       "      <td>0.0</td>\n",
       "      <td>20.2</td>\n",
       "      <td>445.0</td>\n",
       "      <td>21.2</td>\n",
       "      <td>0.003104</td>\n",
       "      <td>NaN</td>\n",
       "      <td>NaN</td>\n",
       "      <td>NaN</td>\n",
       "      <td>NaN</td>\n",
       "      <td>445.0</td>\n",
       "    </tr>\n",
       "    <tr>\n",
       "      <th>9141</th>\n",
       "      <td>58.8</td>\n",
       "      <td>20.1</td>\n",
       "      <td>420.2</td>\n",
       "      <td>26.3</td>\n",
       "      <td>0.003830</td>\n",
       "      <td>NaN</td>\n",
       "      <td>NaN</td>\n",
       "      <td>NaN</td>\n",
       "      <td>NaN</td>\n",
       "      <td>361.4</td>\n",
       "    </tr>\n",
       "    <tr>\n",
       "      <th>9142</th>\n",
       "      <td>0.0</td>\n",
       "      <td>19.6</td>\n",
       "      <td>449.0</td>\n",
       "      <td>19.3</td>\n",
       "      <td>0.002729</td>\n",
       "      <td>NaN</td>\n",
       "      <td>NaN</td>\n",
       "      <td>NaN</td>\n",
       "      <td>NaN</td>\n",
       "      <td>449.0</td>\n",
       "    </tr>\n",
       "  </tbody>\n",
       "</table>\n",
       "<p>9143 rows × 10 columns</p>\n",
       "</div>"
      ],
      "text/plain": [
       "         v1    v2     v4    v5        v6  day  hour  minute  second     v7\n",
       "0     426.0  23.2  721.2  27.3  0.004793  4.0  17.0    51.0     0.0  295.2\n",
       "1     429.5  23.1  714.0  27.3  0.004783  4.0  17.0    51.0    59.0  284.5\n",
       "2     426.0  23.1  713.5  27.2  0.004779  4.0  17.0    53.0     0.0  287.5\n",
       "3     426.0  23.1  708.2  27.2  0.004772  4.0  17.0    54.0     0.0  282.2\n",
       "4     426.0  23.1  704.5  27.2  0.004757  4.0  17.0    55.0     0.0  278.5\n",
       "...     ...   ...    ...   ...       ...  ...   ...     ...     ...    ...\n",
       "9138   65.7  19.2  423.3  30.8  0.004235  NaN   NaN     NaN     NaN  357.6\n",
       "9139    0.0  19.3  463.0  26.1  0.003606  NaN   NaN     NaN     NaN  463.0\n",
       "9140    0.0  20.2  445.0  21.2  0.003104  NaN   NaN     NaN     NaN  445.0\n",
       "9141   58.8  20.1  420.2  26.3  0.003830  NaN   NaN     NaN     NaN  361.4\n",
       "9142    0.0  19.6  449.0  19.3  0.002729  NaN   NaN     NaN     NaN  449.0\n",
       "\n",
       "[9143 rows x 10 columns]"
      ]
     },
     "execution_count": 13,
     "metadata": {},
     "output_type": "execute_result"
    }
   ],
   "source": [
    "df_final "
   ]
  },
  {
   "cell_type": "code",
   "execution_count": 14,
   "metadata": {},
   "outputs": [],
   "source": [
    "sc = MinMaxScaler()\n",
    "x_scale = pd.DataFrame(sc.fit_transform(df_final))\n",
    "x_scale = x_scale.fillna(.999999)"
   ]
  },
  {
   "cell_type": "code",
   "execution_count": 15,
   "metadata": {},
   "outputs": [],
   "source": [
    "kmeans = KMeans(n_clusters=10, n_init=20, algorithm='elkan', random_state=0).fit(x_scale)\n",
    "labels = kmeans.labels_"
   ]
  },
  {
   "cell_type": "code",
   "execution_count": 16,
   "metadata": {},
   "outputs": [
    {
     "data": {
      "text/plain": [
       "{0, 1, 2, 3, 4, 5, 6, 7, 8, 9}"
      ]
     },
     "execution_count": 16,
     "metadata": {},
     "output_type": "execute_result"
    }
   ],
   "source": [
    "set(labels)"
   ]
  },
  {
   "cell_type": "markdown",
   "metadata": {},
   "source": [
    "# Consistency of the clusters "
   ]
  },
  {
   "cell_type": "markdown",
   "metadata": {},
   "source": [
    "scale 0.0 - 1.0 "
   ]
  },
  {
   "cell_type": "code",
   "execution_count": 17,
   "metadata": {},
   "outputs": [
    {
     "data": {
      "text/plain": [
       "0.31127080873853435"
      ]
     },
     "execution_count": 17,
     "metadata": {},
     "output_type": "execute_result"
    }
   ],
   "source": [
    "silhouette_score(x_scale, labels, metric='euclidean')"
   ]
  },
  {
   "cell_type": "markdown",
   "metadata": {},
   "source": [
    "# Reason why I choose this clustering algorithm\n",
    "\n",
    "It was the algorithm that it gave me best results given the type of data."
   ]
  },
  {
   "cell_type": "code",
   "execution_count": 18,
   "metadata": {},
   "outputs": [],
   "source": [
    "df_bar = pd.DataFrame(labels)"
   ]
  },
  {
   "cell_type": "code",
   "execution_count": 19,
   "metadata": {},
   "outputs": [
    {
     "data": {
      "text/plain": [
       "array([[<AxesSubplot:title={'center':'0'}>]], dtype=object)"
      ]
     },
     "execution_count": 19,
     "metadata": {},
     "output_type": "execute_result"
    },
    {
     "data": {
      "image/png": "[encoded data removed]",
      "text/plain": [
       "<Figure size 432x288 with 1 Axes>"
      ]
     },
     "metadata": {
      "needs_background": "light"
     },
     "output_type": "display_data"
    }
   ],
   "source": [
    "df_bar.hist()"
   ]
  },
  {
   "cell_type": "code",
   "execution_count": 20,
   "metadata": {},
   "outputs": [],
   "source": [
    "df_final['cluster'] = labels"
   ]
  },
  {
   "cell_type": "code",
   "execution_count": 21,
   "metadata": {},
   "outputs": [],
   "source": [
    "df_list = []\n",
    "for i in range(0,10):\n",
    "    df_list.append((pd.DataFrame(df_final[df_final['cluster'] == i]).mean().T))"
   ]
  },
  {
   "cell_type": "code",
   "execution_count": 22,
   "metadata": {},
   "outputs": [],
   "source": [
    "clust_desc = pd.concat(df_list, axis = 1).T"
   ]
  },
  {
   "cell_type": "code",
   "execution_count": 23,
   "metadata": {},
   "outputs": [],
   "source": [
    "df_final['count'] = 1"
   ]
  },
  {
   "cell_type": "code",
   "execution_count": 24,
   "metadata": {},
   "outputs": [],
   "source": [
    "amount_clust = df_final[['cluster','count']].groupby(['cluster']).sum().reset_index()"
   ]
  },
  {
   "cell_type": "code",
   "execution_count": 25,
   "metadata": {},
   "outputs": [],
   "source": [
    "clust_desc = clust_desc.merge(amount_clust, how='left', on=['cluster'])"
   ]
  },
  {
   "cell_type": "code",
   "execution_count": 26,
   "metadata": {},
   "outputs": [
    {
     "data": {
      "text/html": [
       "<div>\n",
       "<style scoped>\n",
       "    .dataframe tbody tr th:only-of-type {\n",
       "        vertical-align: middle;\n",
       "    }\n",
       "\n",
       "    .dataframe tbody tr th {\n",
       "        vertical-align: top;\n",
       "    }\n",
       "\n",
       "    .dataframe thead th {\n",
       "        text-align: right;\n",
       "    }\n",
       "</style>\n",
       "<table border=\"1\" class=\"dataframe\">\n",
       "  <thead>\n",
       "    <tr style=\"text-align: right;\">\n",
       "      <th></th>\n",
       "      <th>v1</th>\n",
       "      <th>v2</th>\n",
       "      <th>v4</th>\n",
       "      <th>v5</th>\n",
       "      <th>v6</th>\n",
       "      <th>day</th>\n",
       "      <th>hour</th>\n",
       "      <th>minute</th>\n",
       "      <th>second</th>\n",
       "      <th>v7</th>\n",
       "      <th>cluster</th>\n",
       "      <th>count</th>\n",
       "    </tr>\n",
       "  </thead>\n",
       "  <tbody>\n",
       "    <tr>\n",
       "      <th>0</th>\n",
       "      <td>332.010602</td>\n",
       "      <td>22.031406</td>\n",
       "      <td>760.481687</td>\n",
       "      <td>23.045382</td>\n",
       "      <td>0.003773</td>\n",
       "      <td>5.472289</td>\n",
       "      <td>14.157430</td>\n",
       "      <td>28.758233</td>\n",
       "      <td>0.0</td>\n",
       "      <td>428.471084</td>\n",
       "      <td>0.0</td>\n",
       "      <td>1245</td>\n",
       "    </tr>\n",
       "    <tr>\n",
       "      <th>1</th>\n",
       "      <td>36.673154</td>\n",
       "      <td>19.704832</td>\n",
       "      <td>462.402550</td>\n",
       "      <td>29.877315</td>\n",
       "      <td>0.004247</td>\n",
       "      <td>8.742282</td>\n",
       "      <td>7.417450</td>\n",
       "      <td>27.688591</td>\n",
       "      <td>59.0</td>\n",
       "      <td>425.729396</td>\n",
       "      <td>1.0</td>\n",
       "      <td>745</td>\n",
       "    </tr>\n",
       "    <tr>\n",
       "      <th>2</th>\n",
       "      <td>83.127425</td>\n",
       "      <td>20.399254</td>\n",
       "      <td>517.286847</td>\n",
       "      <td>25.386660</td>\n",
       "      <td>0.003748</td>\n",
       "      <td>7.928105</td>\n",
       "      <td>20.183007</td>\n",
       "      <td>47.470588</td>\n",
       "      <td>59.0</td>\n",
       "      <td>434.159422</td>\n",
       "      <td>2.0</td>\n",
       "      <td>1072</td>\n",
       "    </tr>\n",
       "    <tr>\n",
       "      <th>3</th>\n",
       "      <td>32.529238</td>\n",
       "      <td>19.666025</td>\n",
       "      <td>460.169874</td>\n",
       "      <td>30.278756</td>\n",
       "      <td>0.004294</td>\n",
       "      <td>8.868246</td>\n",
       "      <td>5.105107</td>\n",
       "      <td>28.678756</td>\n",
       "      <td>0.0</td>\n",
       "      <td>427.640637</td>\n",
       "      <td>3.0</td>\n",
       "      <td>1351</td>\n",
       "    </tr>\n",
       "    <tr>\n",
       "      <th>4</th>\n",
       "      <td>205.195556</td>\n",
       "      <td>21.461222</td>\n",
       "      <td>647.565889</td>\n",
       "      <td>22.460222</td>\n",
       "      <td>0.003557</td>\n",
       "      <td>5.646667</td>\n",
       "      <td>16.453333</td>\n",
       "      <td>29.720000</td>\n",
       "      <td>59.0</td>\n",
       "      <td>442.370333</td>\n",
       "      <td>4.0</td>\n",
       "      <td>900</td>\n",
       "    </tr>\n",
       "    <tr>\n",
       "      <th>5</th>\n",
       "      <td>48.677220</td>\n",
       "      <td>20.394402</td>\n",
       "      <td>452.743436</td>\n",
       "      <td>20.672201</td>\n",
       "      <td>0.003065</td>\n",
       "      <td>6.084942</td>\n",
       "      <td>4.202703</td>\n",
       "      <td>29.635135</td>\n",
       "      <td>59.0</td>\n",
       "      <td>404.066216</td>\n",
       "      <td>5.0</td>\n",
       "      <td>518</td>\n",
       "    </tr>\n",
       "    <tr>\n",
       "      <th>6</th>\n",
       "      <td>9.367405</td>\n",
       "      <td>20.173497</td>\n",
       "      <td>451.051424</td>\n",
       "      <td>23.790902</td>\n",
       "      <td>0.003461</td>\n",
       "      <td>6.719937</td>\n",
       "      <td>19.590981</td>\n",
       "      <td>30.474684</td>\n",
       "      <td>0.0</td>\n",
       "      <td>441.684019</td>\n",
       "      <td>6.0</td>\n",
       "      <td>1264</td>\n",
       "    </tr>\n",
       "    <tr>\n",
       "      <th>7</th>\n",
       "      <td>255.618928</td>\n",
       "      <td>21.207035</td>\n",
       "      <td>1247.318425</td>\n",
       "      <td>34.920436</td>\n",
       "      <td>0.005460</td>\n",
       "      <td>9.023451</td>\n",
       "      <td>16.252931</td>\n",
       "      <td>29.323283</td>\n",
       "      <td>0.0</td>\n",
       "      <td>991.699497</td>\n",
       "      <td>7.0</td>\n",
       "      <td>597</td>\n",
       "    </tr>\n",
       "    <tr>\n",
       "      <th>8</th>\n",
       "      <td>41.198958</td>\n",
       "      <td>20.397135</td>\n",
       "      <td>450.981858</td>\n",
       "      <td>20.663976</td>\n",
       "      <td>0.003065</td>\n",
       "      <td>6.091146</td>\n",
       "      <td>4.196181</td>\n",
       "      <td>28.701389</td>\n",
       "      <td>0.0</td>\n",
       "      <td>409.782899</td>\n",
       "      <td>8.0</td>\n",
       "      <td>1152</td>\n",
       "    </tr>\n",
       "    <tr>\n",
       "      <th>9</th>\n",
       "      <td>303.354515</td>\n",
       "      <td>21.404348</td>\n",
       "      <td>1396.705686</td>\n",
       "      <td>35.218729</td>\n",
       "      <td>0.005572</td>\n",
       "      <td>9.009174</td>\n",
       "      <td>15.284404</td>\n",
       "      <td>30.013761</td>\n",
       "      <td>59.0</td>\n",
       "      <td>1093.351171</td>\n",
       "      <td>9.0</td>\n",
       "      <td>299</td>\n",
       "    </tr>\n",
       "  </tbody>\n",
       "</table>\n",
       "</div>"
      ],
      "text/plain": [
       "           v1         v2           v4         v5        v6       day  \\\n",
       "0  332.010602  22.031406   760.481687  23.045382  0.003773  5.472289   \n",
       "1   36.673154  19.704832   462.402550  29.877315  0.004247  8.742282   \n",
       "2   83.127425  20.399254   517.286847  25.386660  0.003748  7.928105   \n",
       "3   32.529238  19.666025   460.169874  30.278756  0.004294  8.868246   \n",
       "4  205.195556  21.461222   647.565889  22.460222  0.003557  5.646667   \n",
       "5   48.677220  20.394402   452.743436  20.672201  0.003065  6.084942   \n",
       "6    9.367405  20.173497   451.051424  23.790902  0.003461  6.719937   \n",
       "7  255.618928  21.207035  1247.318425  34.920436  0.005460  9.023451   \n",
       "8   41.198958  20.397135   450.981858  20.663976  0.003065  6.091146   \n",
       "9  303.354515  21.404348  1396.705686  35.218729  0.005572  9.009174   \n",
       "\n",
       "        hour     minute  second           v7  cluster  count  \n",
       "0  14.157430  28.758233     0.0   428.471084      0.0   1245  \n",
       "1   7.417450  27.688591    59.0   425.729396      1.0    745  \n",
       "2  20.183007  47.470588    59.0   434.159422      2.0   1072  \n",
       "3   5.105107  28.678756     0.0   427.640637      3.0   1351  \n",
       "4  16.453333  29.720000    59.0   442.370333      4.0    900  \n",
       "5   4.202703  29.635135    59.0   404.066216      5.0    518  \n",
       "6  19.590981  30.474684     0.0   441.684019      6.0   1264  \n",
       "7  16.252931  29.323283     0.0   991.699497      7.0    597  \n",
       "8   4.196181  28.701389     0.0   409.782899      8.0   1152  \n",
       "9  15.284404  30.013761    59.0  1093.351171      9.0    299  "
      ]
     },
     "execution_count": 26,
     "metadata": {},
     "output_type": "execute_result"
    }
   ],
   "source": [
    "clust_desc"
   ]
  },
  {
   "cell_type": "markdown",
   "metadata": {},
   "source": [
    "From the description above we can infer the next situation group:\n",
    "   * 0 - 4 adult young teeners, they move the same amount of money as the adult and hold the best savings after the rich. \n",
    "   * 1 - 3  first teeners. People starting in their account, youngest and regulars. \n",
    "   * 2 are the young rich teen people, they do spend but hold the most savings in the 20's.\n",
    "   * 5 - 8 young teen regulars 20's. I do spent and save some. \n",
    "   * 6 young teen stingys 20's. they are the ones who move the less money and always save.\n",
    "   * 7 - 9 adult ~ 35 rich people They move money and save the most. Their balance in account is the highest."
   ]
  },
  {
   "cell_type": "markdown",
   "metadata": {},
   "source": [
    "Marketing strategies. \n",
    "\n",
    "- You can start introducing pension plans to the group \"adult young teeners\".\n",
    "- You can introduce special credit cards with reward programs or car loans to the \"young rich teen people\". They can pay the most. \n",
    "- \"First teeners\" are note the option to introduce credit cards.\n",
    "- You can offer car loans \"young teen regulars\".\n",
    "- The \"young stingys\" will not get any loans nor credit cards.\n",
    "- The \"adults\" will most likely to accept pension deals, insurance deals and school bundle offers with credit cards."
   ]
  },
  {
   "cell_type": "code",
   "execution_count": 27,
   "metadata": {},
   "outputs": [],
   "source": [
    "def create_cat(val):\n",
    "    if val == 0:\n",
    "        val = 'adult young teeners'\n",
    "    else:\n",
    "        if val == 1:\n",
    "            val = 'first teeners'\n",
    "        else:\n",
    "            if val == 2:\n",
    "                val = 'young rich teen'\n",
    "            else:\n",
    "                if val == 3:\n",
    "                    val = 'first teeners'\n",
    "                else:\n",
    "                    if val == 4:\n",
    "                        val = 'adult young teeners'\n",
    "                    else:\n",
    "                        if val == 5:\n",
    "                            val = 'young teen regulars'\n",
    "                        else:\n",
    "                            if val == 6:\n",
    "                                val = 'young teen stingys'\n",
    "                            else:\n",
    "                                if val == 7:\n",
    "                                    val = 'adult rich'\n",
    "                                else:\n",
    "                                    if val == 8:\n",
    "                                        val = 'young teen regulars'\n",
    "                                    else:\n",
    "                                        if val == 9:\n",
    "                                            val = 'adult rich'\n",
    "    return val"
   ]
  },
  {
   "cell_type": "code",
   "execution_count": 28,
   "metadata": {},
   "outputs": [],
   "source": [
    "clust_desc['name_cat'] = list(map(create_cat, clust_desc['cluster']))"
   ]
  },
  {
   "cell_type": "code",
   "execution_count": 29,
   "metadata": {},
   "outputs": [
    {
     "data": {
      "text/html": [
       "<div>\n",
       "<style scoped>\n",
       "    .dataframe tbody tr th:only-of-type {\n",
       "        vertical-align: middle;\n",
       "    }\n",
       "\n",
       "    .dataframe tbody tr th {\n",
       "        vertical-align: top;\n",
       "    }\n",
       "\n",
       "    .dataframe thead th {\n",
       "        text-align: right;\n",
       "    }\n",
       "</style>\n",
       "<table border=\"1\" class=\"dataframe\">\n",
       "  <thead>\n",
       "    <tr style=\"text-align: right;\">\n",
       "      <th></th>\n",
       "      <th>v1</th>\n",
       "      <th>v2</th>\n",
       "      <th>v4</th>\n",
       "      <th>v5</th>\n",
       "      <th>v6</th>\n",
       "      <th>day</th>\n",
       "      <th>hour</th>\n",
       "      <th>minute</th>\n",
       "      <th>second</th>\n",
       "      <th>v7</th>\n",
       "      <th>cluster</th>\n",
       "      <th>count</th>\n",
       "      <th>name_cat</th>\n",
       "    </tr>\n",
       "  </thead>\n",
       "  <tbody>\n",
       "    <tr>\n",
       "      <th>0</th>\n",
       "      <td>332.010602</td>\n",
       "      <td>22.031406</td>\n",
       "      <td>760.481687</td>\n",
       "      <td>23.045382</td>\n",
       "      <td>0.003773</td>\n",
       "      <td>5.472289</td>\n",
       "      <td>14.157430</td>\n",
       "      <td>28.758233</td>\n",
       "      <td>0.0</td>\n",
       "      <td>428.471084</td>\n",
       "      <td>0.0</td>\n",
       "      <td>1245</td>\n",
       "      <td>adult young teeners</td>\n",
       "    </tr>\n",
       "    <tr>\n",
       "      <th>1</th>\n",
       "      <td>36.673154</td>\n",
       "      <td>19.704832</td>\n",
       "      <td>462.402550</td>\n",
       "      <td>29.877315</td>\n",
       "      <td>0.004247</td>\n",
       "      <td>8.742282</td>\n",
       "      <td>7.417450</td>\n",
       "      <td>27.688591</td>\n",
       "      <td>59.0</td>\n",
       "      <td>425.729396</td>\n",
       "      <td>1.0</td>\n",
       "      <td>745</td>\n",
       "      <td>first teeners</td>\n",
       "    </tr>\n",
       "    <tr>\n",
       "      <th>2</th>\n",
       "      <td>83.127425</td>\n",
       "      <td>20.399254</td>\n",
       "      <td>517.286847</td>\n",
       "      <td>25.386660</td>\n",
       "      <td>0.003748</td>\n",
       "      <td>7.928105</td>\n",
       "      <td>20.183007</td>\n",
       "      <td>47.470588</td>\n",
       "      <td>59.0</td>\n",
       "      <td>434.159422</td>\n",
       "      <td>2.0</td>\n",
       "      <td>1072</td>\n",
       "      <td>young rich teen</td>\n",
       "    </tr>\n",
       "    <tr>\n",
       "      <th>3</th>\n",
       "      <td>32.529238</td>\n",
       "      <td>19.666025</td>\n",
       "      <td>460.169874</td>\n",
       "      <td>30.278756</td>\n",
       "      <td>0.004294</td>\n",
       "      <td>8.868246</td>\n",
       "      <td>5.105107</td>\n",
       "      <td>28.678756</td>\n",
       "      <td>0.0</td>\n",
       "      <td>427.640637</td>\n",
       "      <td>3.0</td>\n",
       "      <td>1351</td>\n",
       "      <td>first teeners</td>\n",
       "    </tr>\n",
       "    <tr>\n",
       "      <th>4</th>\n",
       "      <td>205.195556</td>\n",
       "      <td>21.461222</td>\n",
       "      <td>647.565889</td>\n",
       "      <td>22.460222</td>\n",
       "      <td>0.003557</td>\n",
       "      <td>5.646667</td>\n",
       "      <td>16.453333</td>\n",
       "      <td>29.720000</td>\n",
       "      <td>59.0</td>\n",
       "      <td>442.370333</td>\n",
       "      <td>4.0</td>\n",
       "      <td>900</td>\n",
       "      <td>adult young teeners</td>\n",
       "    </tr>\n",
       "    <tr>\n",
       "      <th>5</th>\n",
       "      <td>48.677220</td>\n",
       "      <td>20.394402</td>\n",
       "      <td>452.743436</td>\n",
       "      <td>20.672201</td>\n",
       "      <td>0.003065</td>\n",
       "      <td>6.084942</td>\n",
       "      <td>4.202703</td>\n",
       "      <td>29.635135</td>\n",
       "      <td>59.0</td>\n",
       "      <td>404.066216</td>\n",
       "      <td>5.0</td>\n",
       "      <td>518</td>\n",
       "      <td>young teen regulars</td>\n",
       "    </tr>\n",
       "    <tr>\n",
       "      <th>6</th>\n",
       "      <td>9.367405</td>\n",
       "      <td>20.173497</td>\n",
       "      <td>451.051424</td>\n",
       "      <td>23.790902</td>\n",
       "      <td>0.003461</td>\n",
       "      <td>6.719937</td>\n",
       "      <td>19.590981</td>\n",
       "      <td>30.474684</td>\n",
       "      <td>0.0</td>\n",
       "      <td>441.684019</td>\n",
       "      <td>6.0</td>\n",
       "      <td>1264</td>\n",
       "      <td>young teen stingys</td>\n",
       "    </tr>\n",
       "    <tr>\n",
       "      <th>7</th>\n",
       "      <td>255.618928</td>\n",
       "      <td>21.207035</td>\n",
       "      <td>1247.318425</td>\n",
       "      <td>34.920436</td>\n",
       "      <td>0.005460</td>\n",
       "      <td>9.023451</td>\n",
       "      <td>16.252931</td>\n",
       "      <td>29.323283</td>\n",
       "      <td>0.0</td>\n",
       "      <td>991.699497</td>\n",
       "      <td>7.0</td>\n",
       "      <td>597</td>\n",
       "      <td>adult rich</td>\n",
       "    </tr>\n",
       "    <tr>\n",
       "      <th>8</th>\n",
       "      <td>41.198958</td>\n",
       "      <td>20.397135</td>\n",
       "      <td>450.981858</td>\n",
       "      <td>20.663976</td>\n",
       "      <td>0.003065</td>\n",
       "      <td>6.091146</td>\n",
       "      <td>4.196181</td>\n",
       "      <td>28.701389</td>\n",
       "      <td>0.0</td>\n",
       "      <td>409.782899</td>\n",
       "      <td>8.0</td>\n",
       "      <td>1152</td>\n",
       "      <td>young teen regulars</td>\n",
       "    </tr>\n",
       "    <tr>\n",
       "      <th>9</th>\n",
       "      <td>303.354515</td>\n",
       "      <td>21.404348</td>\n",
       "      <td>1396.705686</td>\n",
       "      <td>35.218729</td>\n",
       "      <td>0.005572</td>\n",
       "      <td>9.009174</td>\n",
       "      <td>15.284404</td>\n",
       "      <td>30.013761</td>\n",
       "      <td>59.0</td>\n",
       "      <td>1093.351171</td>\n",
       "      <td>9.0</td>\n",
       "      <td>299</td>\n",
       "      <td>adult rich</td>\n",
       "    </tr>\n",
       "  </tbody>\n",
       "</table>\n",
       "</div>"
      ],
      "text/plain": [
       "           v1         v2           v4         v5        v6       day  \\\n",
       "0  332.010602  22.031406   760.481687  23.045382  0.003773  5.472289   \n",
       "1   36.673154  19.704832   462.402550  29.877315  0.004247  8.742282   \n",
       "2   83.127425  20.399254   517.286847  25.386660  0.003748  7.928105   \n",
       "3   32.529238  19.666025   460.169874  30.278756  0.004294  8.868246   \n",
       "4  205.195556  21.461222   647.565889  22.460222  0.003557  5.646667   \n",
       "5   48.677220  20.394402   452.743436  20.672201  0.003065  6.084942   \n",
       "6    9.367405  20.173497   451.051424  23.790902  0.003461  6.719937   \n",
       "7  255.618928  21.207035  1247.318425  34.920436  0.005460  9.023451   \n",
       "8   41.198958  20.397135   450.981858  20.663976  0.003065  6.091146   \n",
       "9  303.354515  21.404348  1396.705686  35.218729  0.005572  9.009174   \n",
       "\n",
       "        hour     minute  second           v7  cluster  count  \\\n",
       "0  14.157430  28.758233     0.0   428.471084      0.0   1245   \n",
       "1   7.417450  27.688591    59.0   425.729396      1.0    745   \n",
       "2  20.183007  47.470588    59.0   434.159422      2.0   1072   \n",
       "3   5.105107  28.678756     0.0   427.640637      3.0   1351   \n",
       "4  16.453333  29.720000    59.0   442.370333      4.0    900   \n",
       "5   4.202703  29.635135    59.0   404.066216      5.0    518   \n",
       "6  19.590981  30.474684     0.0   441.684019      6.0   1264   \n",
       "7  16.252931  29.323283     0.0   991.699497      7.0    597   \n",
       "8   4.196181  28.701389     0.0   409.782899      8.0   1152   \n",
       "9  15.284404  30.013761    59.0  1093.351171      9.0    299   \n",
       "\n",
       "              name_cat  \n",
       "0  adult young teeners  \n",
       "1        first teeners  \n",
       "2      young rich teen  \n",
       "3        first teeners  \n",
       "4  adult young teeners  \n",
       "5  young teen regulars  \n",
       "6   young teen stingys  \n",
       "7           adult rich  \n",
       "8  young teen regulars  \n",
       "9           adult rich  "
      ]
     },
     "execution_count": 29,
     "metadata": {},
     "output_type": "execute_result"
    }
   ],
   "source": [
    "clust_desc"
   ]
  },
  {
   "cell_type": "code",
   "execution_count": 30,
   "metadata": {},
   "outputs": [],
   "source": [
    "clust_desc = clust_desc[['name_cat','count']].groupby(['name_cat']).sum().reset_index()"
   ]
  },
  {
   "cell_type": "code",
   "execution_count": 32,
   "metadata": {},
   "outputs": [
    {
     "data": {
      "text/plain": [
       "Text(0.5, 1.0, 'Customer Segments')"
      ]
     },
     "execution_count": 32,
     "metadata": {},
     "output_type": "execute_result"
    },
    {
     "data": {
      "image/png": "[encoded data removed]",
      "text/plain": [
       "<Figure size 432x288 with 1 Axes>"
      ]
     },
     "metadata": {},
     "output_type": "display_data"
    }
   ],
   "source": [
    "ax = clust_desc.plot(kind='pie',y='count')\n",
    "# set the title\n",
    "plt.legend( clust_desc['name_cat'], loc=\"best\")\n",
    "ax.set_title(\"Customer Segments\")"
   ]
  },
  {
   "cell_type": "code",
   "execution_count": null,
   "metadata": {},
   "outputs": [],
   "source": []
  },
  {
   "cell_type": "code",
   "execution_count": null,
   "metadata": {},
   "outputs": [],
   "source": []
  }
 ],
 "metadata": {
  "kernelspec": {
   "display_name": "Python 3",
   "language": "python",
   "name": "python3"
  },
  "language_info": {
   "codemirror_mode": {
    "name": "ipython",
    "version": 3
   },
   "file_extension": ".py",
   "mimetype": "text/x-python",
   "name": "python",
   "nbconvert_exporter": "python",
   "pygments_lexer": "ipython3",
   "version": "3.6.7"
  }
 },
 "nbformat": 4,
 "nbformat_minor": 2
}
