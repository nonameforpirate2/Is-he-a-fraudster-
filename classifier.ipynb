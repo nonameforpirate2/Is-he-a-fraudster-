{
 "cells": [
  {
   "cell_type": "code",
   "execution_count": 1,
   "metadata": {},
   "outputs": [
    {
     "name": "stderr",
     "output_type": "stream",
     "text": [
      "Using TensorFlow backend.\n",
      "C:\\Users\\g1238\\AppData\\Local\\conda\\conda\\envs\\DL\\lib\\site-packages\\tensorflow\\python\\framework\\dtypes.py:516: FutureWarning: Passing (type, 1) or '1type' as a synonym of type is deprecated; in a future version of numpy, it will be understood as (type, (1,)) / '(1,)type'.\n",
      "  _np_qint8 = np.dtype([(\"qint8\", np.int8, 1)])\n",
      "C:\\Users\\g1238\\AppData\\Local\\conda\\conda\\envs\\DL\\lib\\site-packages\\tensorflow\\python\\framework\\dtypes.py:517: FutureWarning: Passing (type, 1) or '1type' as a synonym of type is deprecated; in a future version of numpy, it will be understood as (type, (1,)) / '(1,)type'.\n",
      "  _np_quint8 = np.dtype([(\"quint8\", np.uint8, 1)])\n",
      "C:\\Users\\g1238\\AppData\\Local\\conda\\conda\\envs\\DL\\lib\\site-packages\\tensorflow\\python\\framework\\dtypes.py:518: FutureWarning: Passing (type, 1) or '1type' as a synonym of type is deprecated; in a future version of numpy, it will be understood as (type, (1,)) / '(1,)type'.\n",
      "  _np_qint16 = np.dtype([(\"qint16\", np.int16, 1)])\n",
      "C:\\Users\\g1238\\AppData\\Local\\conda\\conda\\envs\\DL\\lib\\site-packages\\tensorflow\\python\\framework\\dtypes.py:519: FutureWarning: Passing (type, 1) or '1type' as a synonym of type is deprecated; in a future version of numpy, it will be understood as (type, (1,)) / '(1,)type'.\n",
      "  _np_quint16 = np.dtype([(\"quint16\", np.uint16, 1)])\n",
      "C:\\Users\\g1238\\AppData\\Local\\conda\\conda\\envs\\DL\\lib\\site-packages\\tensorflow\\python\\framework\\dtypes.py:520: FutureWarning: Passing (type, 1) or '1type' as a synonym of type is deprecated; in a future version of numpy, it will be understood as (type, (1,)) / '(1,)type'.\n",
      "  _np_qint32 = np.dtype([(\"qint32\", np.int32, 1)])\n",
      "C:\\Users\\g1238\\AppData\\Local\\conda\\conda\\envs\\DL\\lib\\site-packages\\tensorflow\\python\\framework\\dtypes.py:525: FutureWarning: Passing (type, 1) or '1type' as a synonym of type is deprecated; in a future version of numpy, it will be understood as (type, (1,)) / '(1,)type'.\n",
      "  np_resource = np.dtype([(\"resource\", np.ubyte, 1)])\n",
      "C:\\Users\\g1238\\AppData\\Local\\conda\\conda\\envs\\DL\\lib\\site-packages\\tensorboard\\compat\\tensorflow_stub\\dtypes.py:541: FutureWarning: Passing (type, 1) or '1type' as a synonym of type is deprecated; in a future version of numpy, it will be understood as (type, (1,)) / '(1,)type'.\n",
      "  _np_qint8 = np.dtype([(\"qint8\", np.int8, 1)])\n",
      "C:\\Users\\g1238\\AppData\\Local\\conda\\conda\\envs\\DL\\lib\\site-packages\\tensorboard\\compat\\tensorflow_stub\\dtypes.py:542: FutureWarning: Passing (type, 1) or '1type' as a synonym of type is deprecated; in a future version of numpy, it will be understood as (type, (1,)) / '(1,)type'.\n",
      "  _np_quint8 = np.dtype([(\"quint8\", np.uint8, 1)])\n",
      "C:\\Users\\g1238\\AppData\\Local\\conda\\conda\\envs\\DL\\lib\\site-packages\\tensorboard\\compat\\tensorflow_stub\\dtypes.py:543: FutureWarning: Passing (type, 1) or '1type' as a synonym of type is deprecated; in a future version of numpy, it will be understood as (type, (1,)) / '(1,)type'.\n",
      "  _np_qint16 = np.dtype([(\"qint16\", np.int16, 1)])\n",
      "C:\\Users\\g1238\\AppData\\Local\\conda\\conda\\envs\\DL\\lib\\site-packages\\tensorboard\\compat\\tensorflow_stub\\dtypes.py:544: FutureWarning: Passing (type, 1) or '1type' as a synonym of type is deprecated; in a future version of numpy, it will be understood as (type, (1,)) / '(1,)type'.\n",
      "  _np_quint16 = np.dtype([(\"quint16\", np.uint16, 1)])\n",
      "C:\\Users\\g1238\\AppData\\Local\\conda\\conda\\envs\\DL\\lib\\site-packages\\tensorboard\\compat\\tensorflow_stub\\dtypes.py:545: FutureWarning: Passing (type, 1) or '1type' as a synonym of type is deprecated; in a future version of numpy, it will be understood as (type, (1,)) / '(1,)type'.\n",
      "  _np_qint32 = np.dtype([(\"qint32\", np.int32, 1)])\n",
      "C:\\Users\\g1238\\AppData\\Local\\conda\\conda\\envs\\DL\\lib\\site-packages\\tensorboard\\compat\\tensorflow_stub\\dtypes.py:550: FutureWarning: Passing (type, 1) or '1type' as a synonym of type is deprecated; in a future version of numpy, it will be understood as (type, (1,)) / '(1,)type'.\n",
      "  np_resource = np.dtype([(\"resource\", np.ubyte, 1)])\n"
     ]
    }
   ],
   "source": [
    "import pandas as pd\n",
    "import numpy as np\n",
    "import os\n",
    "from sklearn.preprocessing import MinMaxScaler\n",
    "from sklearn.model_selection import train_test_split\n",
    "import keras\n",
    "from keras.models import Sequential\n",
    "from keras.layers import Dense\n",
    "from keras.layers import Dropout\n",
    "from sklearn.model_selection import KFold \n",
    "from sklearn.metrics import accuracy_score\n",
    "from keras.wrappers.scikit_learn import KerasClassifier\n",
    "from sklearn.model_selection import cross_val_score\n",
    "from sklearn.model_selection import GridSearchCV"
   ]
  },
  {
   "cell_type": "markdown",
   "metadata": {},
   "source": [
    "# Dataset Analysis"
   ]
  },
  {
   "cell_type": "code",
   "execution_count": 2,
   "metadata": {},
   "outputs": [],
   "source": [
    "# Load info_01.csv\n",
    "df1 = pd.read_csv(\"ds\\\\info_01.csv\")\n",
    "def check_diff(arr1,arr2):\n",
    "    arr3 = arr1 - arr2\n",
    "    return sum(arr3)"
   ]
  },
  {
   "cell_type": "code",
   "execution_count": 3,
   "metadata": {},
   "outputs": [],
   "source": [
    "df1 = pd.read_csv(\"ds\\\\info_01.csv\").drop_duplicates()"
   ]
  },
  {
   "cell_type": "code",
   "execution_count": 4,
   "metadata": {},
   "outputs": [
    {
     "data": {
      "text/plain": [
       "0"
      ]
     },
     "execution_count": 4,
     "metadata": {},
     "output_type": "execute_result"
    }
   ],
   "source": [
    "#Apparently id and id2 are the same lets check with a quick aggregation\n",
    "check_diff(df1[\"id\"],df1[\"id2\"])"
   ]
  },
  {
   "cell_type": "code",
   "execution_count": 5,
   "metadata": {},
   "outputs": [],
   "source": [
    "df2 = pd.read_csv(\"ds\\\\info_02.csv\")"
   ]
  },
  {
   "cell_type": "code",
   "execution_count": 6,
   "metadata": {},
   "outputs": [
    {
     "data": {
      "text/plain": [
       "0"
      ]
     },
     "execution_count": 6,
     "metadata": {},
     "output_type": "execute_result"
    }
   ],
   "source": [
    "# I do have the same problem as in dataset 1. The id and id2 seems to be the same. Let me do a quick verification.\n",
    "check_diff(df2[\"id\"],df2[\"id2\"])"
   ]
  },
  {
   "cell_type": "markdown",
   "metadata": {},
   "source": [
    "Given the information above it was found that both datasets can use only one attribute related to the id. Thus, I am going to leave only id. "
   ]
  },
  {
   "cell_type": "code",
   "execution_count": 7,
   "metadata": {},
   "outputs": [],
   "source": [
    "df1 = df1.drop(columns=[\"id2\"])\n",
    "df2 = df2.drop(columns=[\"id2\"])"
   ]
  },
  {
   "cell_type": "code",
   "execution_count": 8,
   "metadata": {},
   "outputs": [
    {
     "name": "stdout",
     "output_type": "stream",
     "text": [
      "amount of good registers in info_01  8143\n",
      "amount of good registers in info_02  9143\n"
     ]
    }
   ],
   "source": [
    "df2 = df2.drop_duplicates()\n",
    "print(\"amount of good registers in info_01 \",len(df1))\n",
    "print(\"amount of good registers in info_02 \",len(df2))"
   ]
  },
  {
   "cell_type": "markdown",
   "metadata": {},
   "source": [
    "# Dataset description\n",
    "\n",
    "### info_01\n",
    "\n",
    "It has 17286 registros and contains the next attributes:\n",
    "\n",
    "    - id: type integer\n",
    "    - id2: type integer\n",
    "    - v4: type float\n",
    "    - v5: type float\n",
    "    - v6: type float\n",
    "\n",
    "It was found that the info_01 has a lot of duplicate registers. Thus, it was needed to remove duplicates. After removing the dupliate vales only 8143 registers left. It was found that id and id2 were attributes with the same identification number. Therefore, I decided to erase id2 column.\n",
    "\n",
    "### info_02\n",
    "\n",
    "It has 17286 registers and contains the next attributes:\n",
    "    - id: type integer \n",
    "    - id2: type integer\n",
    "    - v1: type float\n",
    "    - c1: type integer\n",
    "    - v2: type float\n",
    "    - v3: type timestamp\n",
    "\n",
    "This dataset did contain duplicate registers, I remove duplicates. After removing duplicates the dataset has 9143. However, attribute id and id2 had the same value. I decided to erase id2."
   ]
  },
  {
   "cell_type": "markdown",
   "metadata": {},
   "source": [
    "I am interested in bring attributes from df1 to df2. I want df2 to be my pivot given that its the dataset with the dependent variable. I will perform a left join operation."
   ]
  },
  {
   "cell_type": "code",
   "execution_count": 9,
   "metadata": {},
   "outputs": [],
   "source": [
    "df_final = df2.merge(df1, how='left', on=['id'])"
   ]
  },
  {
   "cell_type": "markdown",
   "metadata": {},
   "source": [
    "# Descriptive analytics from attribute perspective"
   ]
  },
  {
   "cell_type": "code",
   "execution_count": 10,
   "metadata": {},
   "outputs": [
    {
     "name": "stdout",
     "output_type": "stream",
     "text": [
      "The amount of registers without value in the dependent variable are 0\n"
     ]
    }
   ],
   "source": [
    "print(\"The amount of registers without value in the dependent variable are\", len(df_final[df_final[\"c1\"].isnull()]))"
   ]
  },
  {
   "cell_type": "code",
   "execution_count": 11,
   "metadata": {},
   "outputs": [
    {
     "name": "stdout",
     "output_type": "stream",
     "text": [
      "Amount of unique id's in ID attribute 8143\n"
     ]
    }
   ],
   "source": [
    "# id1 \n",
    "print(\"Amount of unique id's in ID attribute\" , len(df_final['id'].unique()))"
   ]
  },
  {
   "cell_type": "code",
   "execution_count": 12,
   "metadata": {},
   "outputs": [
    {
     "data": {
      "text/plain": [
       "array([ 426. ,  429.5,  419. ,  418.5,    0. ,  356. ,  423.7,  411. ,\n",
       "        408.3,  400. ,  396. ,  398.3,  399.5,  413. ,  412.2,  405. ,\n",
       "        412. ,  422.5,  428.3,  424.6,  433. ,  426.7,  436.3,  429. ,\n",
       "        434. ,  444. ,  441.8,  446. ,  439. ,  446.5,  451.5,  455.2,\n",
       "        447.3,  455.7,  454. ,  457.3,  465.7,  465.5,  469.7,  478.5,\n",
       "        471.2,  473. ,  484.5,  482.5,  487.5,  490. ,  492. ,  497.2,\n",
       "        495.5,  497. ,  494. ,  498.7,  504.2,  506. ,  505.8,  505.5,\n",
       "        518.5,  508.5,  503.7,  496.3,  503. ,  489.5,  478. ,  483.2,\n",
       "        484. ,  476. ,  486.5,  476.2,  469. ,  459. ,  460.2,  466.5,\n",
       "        450.2,  457.8,  462.3,  456.5,  461.5,  449.5,  460. ,  453. ,\n",
       "        454.8,  455.5,  464. ,  444.2,  463. ,  471. ,  474. ,  479. ,\n",
       "        465.2,  466.8,  442.8,  448. ,  454.7,  449.3,  440.2,  458.5,\n",
       "        481.5,  471.5,  489. ,  504. ,  502.3,  524. ,  550. ,  554.2,\n",
       "        562.3,  568.5,  606.5,  696.5,  657.2,  744. ,  708.8,  607. ,\n",
       "        660. ,  688.5,  558. ,  661.3,  665.5,  647.7,  638. ,  534. ,\n",
       "        520. ,  513.5,  531.2,  539. ,  545.8,  604.8,  597.2,  528. ,\n",
       "        521. ,  535.7,  533.2,  523.8,  536.2,  548.3,  565.8,  584.5,\n",
       "        535. ,  546.3,  630.5,  570.7,  630. ,  732.8,  686.2,  635.5,\n",
       "        676. ,  567.2,  582.5,  618.8,  579.2,  590.3,  564. ,  496.5,\n",
       "        340.7,   38.8,   31. ,   26.8,   22. ,   13. ,   32.7,   33.5,\n",
       "         28. ,   28.7,   46. ,   53. ,   71.5,  103. ,   91.7,   90. ,\n",
       "         81.7,  112.8,  334.3,  472.2,  503.5,  567.5,  569.2,  490.7,\n",
       "        487.3,  500. ,  545.3,  520.6,  509. ,  476.5,  456. ,  461. ,\n",
       "        451. ,  451.8,  441.9,  439.8,  442.5,  447. ,  443.5,  441. ,\n",
       "        438. ,  474.5,  525.5,  515. ,  486. ,  540.5,  490.2,  536.3,\n",
       "        532. ,  543. ,  527. ,  530. ,  526.2,  522. ,  517. ,  518. ,\n",
       "        520.8,  525. ,  524.8,  524.7,  472.8,  436.5,  460.8,  479.7,\n",
       "        476.8,  477. ,  470.2,  460.7,  452.3,  432.8,  435. ,  213. ,\n",
       "        260.3,  401.3,  409. ,  407.5,  408.5,  418.3,  442.3,  435.8,\n",
       "        440. ,  437.2,  450.8,  452. ,  457. ,  468. ,  475.2,  468.2,\n",
       "        492.3,  480.2,  539.5,  528.5,  499. ,  497.8,  500.2,  485.7,\n",
       "        482.8,  477.3,  485.2,  480. ,  487.8,  467.7,  469.2,  462.8,\n",
       "        472.3,  485. ,  467.8,  502.8,  492.8,  507. ,  474.3,  477.8,\n",
       "        480.7,  491.5,  501.5,  514. ,  513.8,  507.3,  512.8,  541.5,\n",
       "        533.8,  518.7,  511.5,  521.5,  500.7,  511. ,  497.3,  495.7,\n",
       "        495.2,  481.2,  377.8,   44. ,   60.2,   60.8,   57. ,   67. ,\n",
       "         66.5,   58.3,   61.5,   48.5,   62.5,   68.8,   47. ,   54.5,\n",
       "         50. ,   52.3,   81.2,   51.8,  131.3,  293.5,  483.8,  495. ,\n",
       "        507.5,  516.5,  536.5,  516.2,  546. ,  573. ,  560.8,  537. ,\n",
       "        548.8,  549.4,  559.5,  549.2,  525.3,  535.5,  545.5,  551. ,\n",
       "        586. ,  581.8,  557.7,  571. ,  555.5,  525.2,  543.8,  563.5,\n",
       "        551.7,  531. ,  553.3,  531.5,  546.5,  537.7,  543.2,  534.7,\n",
       "        526. ,  549.5,  547.8,  552.3,  538.3,  555.2,  570. ,  559.3,\n",
       "        566. ,  557.2,  562. ,  566.2,  567.7,  554.3,  556.8,  555. ,\n",
       "        543.7,  547. ,  538. ,  541.8,  530.5,  534.2,  519. ,  526.8,\n",
       "        512. ,  513. ,  523.5,  528.8,  528.7,  518.8,  508.8,  478.3,\n",
       "        478.6,  459.2,  464.5,  453.2,  447.4,  450.7,  449. ,  441.4,\n",
       "         14. ,    9.3,   10.5,    7. ,   10. ,   13.5,   11.5,    6. ,\n",
       "         12. ,   24. ,   17.3,   18.5,   20.3,   26.5,   42.3,   48. ,\n",
       "         38.3,   40.8,   41.5,   55. ,   67.8,   82.7,   89.8,   96. ,\n",
       "         93.5,   91.5,  107.2,  110. ,  112. ,  116. ,  119.5,  126.3,\n",
       "        133. ,  130.5,  137.7,  137.8,  143.3,  141.6,  151.8,  152. ,\n",
       "        157. ,  153. ,  165.5,  168. ,  173.3,  166.2,  170.5,  172.5,\n",
       "        175.3,  181.5,  188.5,  190. ,  196.7,  199. ,  215. ,  611.5,\n",
       "       1546.3, 1451.8,  829. ,  251.2,  205.5,  220.8,  224.7,  205. ,\n",
       "        219. ,  212. ,  230.2,  241.3,  204.3,  183.2,  229. ,  206.5,\n",
       "        204. ,  257.2,  257. ,  253. ,  270.3,  269. ,  265.5,  270. ,\n",
       "        271. ,  258. ,  267. ,  258.8,  262.5,  275.3,  271.2,  288.2,\n",
       "        291. ,  287.2,  283.3,  290.5,  290.2,  303. ,  300.5,  297. ,\n",
       "        307.7,  306.8,  305. ,  304. ,  317.3,  324.8,  314. ,  316.8,\n",
       "        327.5,  311.3,  328.5,  327. ,  324. ,  329.3,  330.2,  321.2,\n",
       "        334.8,  333. ,  345. ,  335.3,  336.5,  342. ,  288.8,  351.3,\n",
       "        348. ,  351. ,  355.5,  337.5,  350.2,  347.5,  352.3,  350.4,\n",
       "        357.5,  353. ,  344. ,  350. ,  337.8,  333.5,  338. ,  351.5,\n",
       "        362. ,  355.8,  342.5,  334. ,  331. ,  346. ,  341. ,  354.2,\n",
       "        349.8,  364.5,  357.3,  336.3,  359.8,  358. ,  355. ,  349. ,\n",
       "        352.7,  345.5,  347.2,  360. ,  343. ,  344.3,  339.5,  354. ,\n",
       "        334.5,  336. ,  352.2,  338.3,  340.5,  337.2,  342.8,  318.5,\n",
       "        337. ,  314.7,  298.8,  312.2,  321.5,  317. ,  319.8,  310.8,\n",
       "        313.5,  310. ,  308.8,  318.3,  312.3,  308.5,  317.5,  315. ,\n",
       "        310.5,  312.7,  288. ,  301. ,  292. ,  302. ,  285. ,  283.2,\n",
       "        288.7,  278.8,  279.8,  268. ,  268.2,  266. ,  270.2,  268.5,\n",
       "        272. ,  274. ,  265. ,  267.3,  243.8,  263.5,  262. ,  260.5,\n",
       "        252. ,  259. ,  250. ,  241. ,  248.2,  261. ,  243. ,  239.8,\n",
       "        232.5,  224.8,  221.7,  206.2,  186. ,  189. ,  198. ,  180. ,\n",
       "        193.5,  202. ,  187.5,  201.5,  193.8,  171.8,  139.3,  164.7,\n",
       "        150. ,  149.7,  154. ,  160.7,  143.2,  151. ,  153.3,  144.8,\n",
       "        115. ,  131. ,  140. ,  167.7,  168.8,  176. ,  163. ,  170. ,\n",
       "        163.2,  140.7,  138.5,  142.5,  139. ,  158.5,  148. ,  142. ,\n",
       "        126.5,  120. ,  123. ,  121.5,  117. ,  126. ,  124. ,  138. ,\n",
       "        122.8,  128.2,  119. ,  125. ,  107. ,  118. ,  100. ,   99.5,\n",
       "         87. ,  105. ,   90.5,   97.8,   93.2,   70. ,   89.3,   91.8,\n",
       "         81. ,   76.5,   63. ,   82.3,   77.5,   78.5,   74. ,   69.8,\n",
       "         68. ,   64.4,   62. ,   57.2,   64.5,   52. ,   51. ,   62.7,\n",
       "         58. ,   53.8,   45.3,   47.8,   50.5,   37. ,   43.8,   39.5,\n",
       "         32.2,   36.5,   19. ,   19.8,    4.7,    8.5,   17. ,   20.7,\n",
       "          9.6,    6.5,   29. ,   36. ,   30.5,   40. ,   35. ,   25. ,\n",
       "         28.8,   19.5,   22.8,   29.3,   30.8,   75.5,   97. ,  147.5,\n",
       "        166. ,  149. ,  146. ,  167.5,  118.2,   42.2,   34.2,   26. ,\n",
       "         43. ,   29.2,   25.5,   16.6,   22.5,   20.2,   15. ,   16. ,\n",
       "         25.2,   16.2,   39.3,   65.7,   67.2,  116.8,  112.5,  102.7,\n",
       "         85.8,   81.5,   93.7,  106. ,   79.5,  150.2,   66.7,   54. ,\n",
       "        255. ,  317.2,  233. ,  277.5,   88.5,   72.8,   63.7,   84.7,\n",
       "         99.8,  226. ,  161.2,  178.7,  214.8,  290.7,  288.5,  295.5,\n",
       "        194. ,  261.8,  243.3,  247.5,  256. ,  192.8,  252.5,  287.7,\n",
       "        253.3,  273. ,  273.3,  256.8,  247.2,  175.7,  250.8,  255.5,\n",
       "        174.5,  215.5,  164.5,   97.7,  237. ,  231.5,   82. ,   89. ,\n",
       "        115.2,   96.4,  127. ,  169.2,  156.8,  209. ,  211. ,  133.3,\n",
       "        197.2,  171. ,  151.5,  182. ,  199.8,  179.5,  195.2,  157.3,\n",
       "        141. ,  183. ,  136. ,   85.5,  128.8,  178.3,  154.2,  140.5,\n",
       "        130. ,   64.2,  113. ,  152.3,  145. ,  152.5,  142.2,  134.5,\n",
       "        149.2,  115.8,  142.3,  145.2,  106.2,   72. ,   95.8,  110.2,\n",
       "         59.5,   63.5,   86.2,   63.3,   65.8,   69. ,  108. ,   73.2,\n",
       "         98.7,   59. ,   54.3,  100.2,   67.5,   72.3,   70.3,   85.3,\n",
       "         79.8,   76.8,   85.7,   59.2,   44.3,   64. ,   49. ,   52.8,\n",
       "         56.5,   57.8,   69.2,   58.8,   53.5,   52.2,   53.7,   40.5,\n",
       "         34.7,   35.2,   47.7,   51.5,   36.7,   23.5,   26.2,   34.4,\n",
       "         17.5,   33.2,   23.8,   11.3,  289.8,  397. ,  392.5,  393.7,\n",
       "        399.7,  393. ,  389. ,  406.8,  437.7,  433.5,  446.8,  458. ,\n",
       "        471.8,  510.7,  510.2,  167. ,  365.8,  467.3,  472.7,  470.8,\n",
       "        413.7,  328. ,  403.7,  430.7,  209.5,  232. ,  409.7,  408. ,\n",
       "        404.5])"
      ]
     },
     "execution_count": 12,
     "metadata": {},
     "output_type": "execute_result"
    }
   ],
   "source": [
    "#v1\n",
    "df_final[\"v1\"].unique()"
   ]
  },
  {
   "cell_type": "code",
   "execution_count": 13,
   "metadata": {},
   "outputs": [
    {
     "data": {
      "text/plain": [
       "0.0"
      ]
     },
     "execution_count": 13,
     "metadata": {},
     "output_type": "execute_result"
    }
   ],
   "source": [
    "#v1 How many nulls. The v1 is empty in dataset info_01\n",
    "float(len(df_final[df_final[\"v1\"].isna()]))/float(len(df_final[\"v1\"]))"
   ]
  },
  {
   "cell_type": "code",
   "execution_count": 14,
   "metadata": {},
   "outputs": [
    {
     "data": {
      "text/plain": [
       "<AxesSubplot:>"
      ]
     },
     "execution_count": 14,
     "metadata": {},
     "output_type": "execute_result"
    },
    {
     "data": {
      "image/png": "[encoded data removed]",
      "text/plain": [
       "<Figure size 432x288 with 1 Axes>"
      ]
     },
     "metadata": {
      "needs_background": "light"
     },
     "output_type": "display_data"
    }
   ],
   "source": [
    "#v1 amoutn of money transfer during the transaction\n",
    "df_final[\"v1\"].hist(bins=10)"
   ]
  },
  {
   "cell_type": "code",
   "execution_count": 15,
   "metadata": {},
   "outputs": [
    {
     "data": {
      "text/plain": [
       "array([23.2, 23.1, 23. , 22.9, 22.8, 22.7, 22.6, 22.5, 22.4, 22.3, 22.2,\n",
       "       22.1, 22. , 21.9, 21.8, 21.7, 21.6, 21.5, 21.4, 21.3, 21.2, 21.1,\n",
       "       21. , 20.9, 20.8, 20.7, 20.6, 20.5, 20.4, 20.3, 20.2, 20.1, 20. ,\n",
       "       19.9, 19.8, 19.7, 19.6, 19.5, 19.4, 19.3, 19.2, 19.1, 19. ])"
      ]
     },
     "execution_count": 15,
     "metadata": {},
     "output_type": "execute_result"
    }
   ],
   "source": [
    "#v2\n",
    "df_final[\"v2\"].unique()"
   ]
  },
  {
   "cell_type": "code",
   "execution_count": 16,
   "metadata": {},
   "outputs": [
    {
     "data": {
      "text/plain": [
       "0.0"
      ]
     },
     "execution_count": 16,
     "metadata": {},
     "output_type": "execute_result"
    }
   ],
   "source": [
    "#v2 How many nulls. \n",
    "float(len(df_final[df_final[\"v2\"].isnull()]))/float(len(df_final[\"v2\"]))"
   ]
  },
  {
   "cell_type": "code",
   "execution_count": 17,
   "metadata": {},
   "outputs": [
    {
     "data": {
      "text/plain": [
       "<AxesSubplot:>"
      ]
     },
     "execution_count": 17,
     "metadata": {},
     "output_type": "execute_result"
    },
    {
     "data": {
      "image/png": "[encoded data removed]",
      "text/plain": [
       "<Figure size 432x288 with 1 Axes>"
      ]
     },
     "metadata": {
      "needs_background": "light"
     },
     "output_type": "display_data"
    }
   ],
   "source": [
    "#v2 months with the service\n",
    "df_final[\"v2\"].hist(bins=10)"
   ]
  },
  {
   "cell_type": "code",
   "execution_count": 18,
   "metadata": {},
   "outputs": [
    {
     "data": {
      "text/plain": [
       "array(['2015-02-04 17:51:00', '2015-02-04 17:51:59',\n",
       "       '2015-02-04 17:53:00', ..., '2015-02-10 09:32:00',\n",
       "       '2015-02-10 09:33:00', nan], dtype=object)"
      ]
     },
     "execution_count": 18,
     "metadata": {},
     "output_type": "execute_result"
    }
   ],
   "source": [
    "# v3 \n",
    "df_final[\"v3\"].unique()"
   ]
  },
  {
   "cell_type": "code",
   "execution_count": 19,
   "metadata": {},
   "outputs": [],
   "source": [
    "def time(string_date):\n",
    "    return pd.to_datetime(string_date)\n",
    "def get_day(date):\n",
    "    return date.day\n",
    "def get_hour(date):\n",
    "    return date.hour\n",
    "def get_min(date):\n",
    "    return date.minute\n",
    "def get_second(date):\n",
    "    return date.second"
   ]
  },
  {
   "cell_type": "code",
   "execution_count": 20,
   "metadata": {},
   "outputs": [],
   "source": [
    "df_final[\"v3\"] = list(map(time,df_final[\"v3\"]))"
   ]
  },
  {
   "cell_type": "code",
   "execution_count": 21,
   "metadata": {},
   "outputs": [
    {
     "name": "stdout",
     "output_type": "stream",
     "text": [
      "minimum date 2015-02-04 17:51:00\n",
      "maximum date 2015-02-10 09:33:00\n"
     ]
    }
   ],
   "source": [
    "print(\"minimum date\", df_final[\"v3\"].min())\n",
    "print(\"maximum date\", df_final[\"v3\"].max())"
   ]
  },
  {
   "cell_type": "code",
   "execution_count": 22,
   "metadata": {},
   "outputs": [
    {
     "data": {
      "text/plain": [
       "0.10937329104232746"
      ]
     },
     "execution_count": 22,
     "metadata": {},
     "output_type": "execute_result"
    }
   ],
   "source": [
    "#v3 How many nulls.\n",
    "float(len(df_final[df_final[\"v3\"].isnull()]))/float(len(df_final[\"v3\"]))"
   ]
  },
  {
   "cell_type": "markdown",
   "metadata": {},
   "source": [
    "I notice that the timestamp variable has around 5% null values. I am not going to erase them to \"clean\" the information. It might be a good indicator of fraud."
   ]
  },
  {
   "cell_type": "code",
   "execution_count": 23,
   "metadata": {},
   "outputs": [
    {
     "data": {
      "text/plain": [
       "array([721.2, 714. , 713.5, ..., 761. , 771.3, 787.2])"
      ]
     },
     "execution_count": 23,
     "metadata": {},
     "output_type": "execute_result"
    }
   ],
   "source": [
    "#v4\n",
    "df_final[\"v4\"].unique()"
   ]
  },
  {
   "cell_type": "code",
   "execution_count": 24,
   "metadata": {},
   "outputs": [
    {
     "data": {
      "text/plain": [
       "0.0"
      ]
     },
     "execution_count": 24,
     "metadata": {},
     "output_type": "execute_result"
    }
   ],
   "source": [
    "#v4 How many nulls. \n",
    "float(len(df_final[df_final[\"v4\"].isnull()]))/float(len(df_final[\"v4\"]))"
   ]
  },
  {
   "cell_type": "code",
   "execution_count": 25,
   "metadata": {},
   "outputs": [
    {
     "data": {
      "text/plain": [
       "<AxesSubplot:>"
      ]
     },
     "execution_count": 25,
     "metadata": {},
     "output_type": "execute_result"
    },
    {
     "data": {
      "image/png": "[encoded data removed]",
      "text/plain": [
       "<Figure size 432x288 with 1 Axes>"
      ]
     },
     "metadata": {
      "needs_background": "light"
     },
     "output_type": "display_data"
    }
   ],
   "source": [
    "#v4 balance on the account\n",
    "df_final[\"v4\"].hist()"
   ]
  },
  {
   "cell_type": "code",
   "execution_count": 26,
   "metadata": {},
   "outputs": [
    {
     "data": {
      "text/plain": [
       "array([27.3, 27.2, 27.1, 27.4, 27.5, 27.6, 27. , 26.9, 26.8, 26.7, 26.6,\n",
       "       26.5, 26.4, 26.3, 26.2, 26.1, 26. , 25.9, 25.8, 25.7, 25.6, 25.5,\n",
       "       25.4, 25.3, 25.2, 25.1, 25. , 24.9, 24.8, 24.7, 24.6, 24.5, 24.4,\n",
       "       24.3, 24.2, 24.1, 24. , 23.9, 23.8, 23.7, 23.6, 23.5, 23.4, 23.3,\n",
       "       23.2, 23.1, 23. , 22.9, 22.8, 22.7, 22.6, 22.5, 22.4, 27.7, 28. ,\n",
       "       28.1, 28.2, 28.4, 28.5, 28.3, 27.8, 21.9, 21.7, 22. , 22.1, 21.5,\n",
       "       21.3, 21.2, 21.6, 21.4, 21.1, 20.9, 20.6, 20.7, 20.8, 20.5, 20.4,\n",
       "       20.3, 20.1, 20.2, 20. , 19.9, 19.8, 19.6, 19.3, 19.4, 19.7, 19.5,\n",
       "       19.2, 21. , 19.1, 19. , 18.9, 18.8, 18.7, 18.6, 18.5, 18.4, 21.8,\n",
       "       18.3, 18.2, 18.1, 18. , 17.9, 17.8, 17.7, 17.6, 17.5, 17.4, 17.3,\n",
       "       17.2, 17.1, 17. , 16.9, 16.8, 16.7, 22.2, 22.3, 27.9, 28.6, 28.7,\n",
       "       28.8, 28.9, 29. , 29.1, 29.2, 29.3, 29.4, 29.5, 29.6, 29.7, 29.8,\n",
       "       29.9, 30. , 30.1, 30.2, 30.3, 30.4, 30.5, 30.6, 30.7, 30.8, 30.9,\n",
       "       31. , 31.1, 31.2, 31.3, 31.4, 31.5, 31.6, 31.7, 31.8, 31.9, 32. ,\n",
       "       32.1, 32.2, 32.3, 32.4, 32.5, 32.6, 32.7, 32.9, 32.8, 33. , 33.1,\n",
       "       33.2, 33.3, 33.4, 33.5, 33.6, 33.8, 33.7, 34.1, 33.9, 34.4, 34.5,\n",
       "       34.3, 34.2, 34. , 35.3, 34.8, 34.7, 35. , 35.1, 35.2, 35.4, 35.5,\n",
       "       35.6, 35.7, 35.8, 35.9, 36. , 36.1, 36.2, 36.3, 36.4, 36.5, 36.6,\n",
       "       36.7, 36.8, 36.9, 37. , 37.1, 37.2, 37.4, 37.5, 37.3, 37.6, 37.7,\n",
       "       37.9, 37.8, 38. , 38.1, 38.2, 38.4, 38.3, 38.5, 38.6, 38.7, 38.8,\n",
       "       38.9, 39. , 39.1, 34.9, 34.6])"
      ]
     },
     "execution_count": 26,
     "metadata": {},
     "output_type": "execute_result"
    }
   ],
   "source": [
    "#v5\n",
    "df_final[\"v5\"].unique()"
   ]
  },
  {
   "cell_type": "code",
   "execution_count": 27,
   "metadata": {},
   "outputs": [
    {
     "data": {
      "text/plain": [
       "0.0"
      ]
     },
     "execution_count": 27,
     "metadata": {},
     "output_type": "execute_result"
    }
   ],
   "source": [
    "#v5 How many nulls. \n",
    "float(len(df_final[df_final[\"v5\"].isnull()]))/float(len(df_final[\"v5\"]))"
   ]
  },
  {
   "cell_type": "code",
   "execution_count": 28,
   "metadata": {},
   "outputs": [
    {
     "data": {
      "text/plain": [
       "<AxesSubplot:>"
      ]
     },
     "execution_count": 28,
     "metadata": {},
     "output_type": "execute_result"
    },
    {
     "data": {
      "image/png": "[encoded data removed]",
      "text/plain": [
       "<Figure size 432x288 with 1 Axes>"
      ]
     },
     "metadata": {
      "needs_background": "light"
     },
     "output_type": "display_data"
    }
   ],
   "source": [
    "#v5 customer age\n",
    "df_final[\"v5\"].hist()"
   ]
  },
  {
   "cell_type": "code",
   "execution_count": 29,
   "metadata": {},
   "outputs": [
    {
     "data": {
      "text/plain": [
       "array([0.00479299, 0.00478344, 0.00477946, ..., 0.00556273, 0.00559564,\n",
       "       0.00562145])"
      ]
     },
     "execution_count": 29,
     "metadata": {},
     "output_type": "execute_result"
    }
   ],
   "source": [
    "#v6\n",
    "df_final[\"v6\"].unique()"
   ]
  },
  {
   "cell_type": "code",
   "execution_count": 30,
   "metadata": {},
   "outputs": [
    {
     "data": {
      "text/plain": [
       "0.0"
      ]
     },
     "execution_count": 30,
     "metadata": {},
     "output_type": "execute_result"
    }
   ],
   "source": [
    "#v6 How many nulls. \n",
    "float(len(df_final[df_final[\"v6\"].isnull()]))/float(len(df_final[\"v6\"]))"
   ]
  },
  {
   "cell_type": "code",
   "execution_count": 31,
   "metadata": {},
   "outputs": [
    {
     "data": {
      "text/plain": [
       "<AxesSubplot:>"
      ]
     },
     "execution_count": 31,
     "metadata": {},
     "output_type": "execute_result"
    },
    {
     "data": {
      "image/png": "[encoded data removed]",
      "text/plain": [
       "<Figure size 432x288 with 1 Axes>"
      ]
     },
     "metadata": {
      "needs_background": "light"
     },
     "output_type": "display_data"
    }
   ],
   "source": [
    "#v6 the attribue correspond to an account existent\n",
    "df_final[\"v6\"].hist()"
   ]
  },
  {
   "cell_type": "code",
   "execution_count": 32,
   "metadata": {},
   "outputs": [],
   "source": [
    "df_box = df_final.drop(columns = ['id','c1','v3'])\n",
    "sc_box = MinMaxScaler()\n",
    "df_box = pd.DataFrame(sc_box.fit_transform(df_box), columns = df_box.columns)"
   ]
  },
  {
   "cell_type": "markdown",
   "metadata": {},
   "source": [
    "The dataset has 6 attributes that can be use to identify label c1:\n",
    "\n",
    "- v1: It seems to be the amount of money involved in a transaction at the moment of checking the account. Most of the values are above the median and there are a couple of outliers, which might be good to identify fraud. It was a skewed distribution to a tendency to be an exponential distribution to the left. \n",
    "\n",
    "- v2: it seems the amount of time with the service range from 19.0 - 23.0. It has a very nice exponential distribution to the left. I does not have outliers.\n",
    "\n",
    "- v3: It is the timestamp at the moment of the account verification ranging from the 2015-02-04 - 2015-02-10. 6 days of information. It has some missing values, which I decided to keep in case it turn out to be a good indicator of fraud.\n",
    "\n",
    "- v4: It is the balance of the account ranging from 400 to 2000. Most of the values are above the median and it has a lot of outliers. It has a lot of outliers.  \n",
    "\n",
    "- v5: It represents the ages of the customers. The distribution tend to be normal. It does not have outliers.\n",
    "\n",
    "- v6: Its an attribute related to the account itself. It has a very nice distribution to the left, it has some outliers which might be good to detect fraud. \n",
    "\n",
    "Visualization available on the box plot."
   ]
  },
  {
   "cell_type": "code",
   "execution_count": 33,
   "metadata": {},
   "outputs": [
    {
     "data": {
      "image/png": "[encoded data removed]",
      "text/plain": [
       "<Figure size 432x288 with 1 Axes>"
      ]
     },
     "metadata": {
      "needs_background": "light"
     },
     "output_type": "display_data"
    }
   ],
   "source": [
    "boxplot = pd.DataFrame(df_box).boxplot(grid=False, rot=45, fontsize=15)"
   ]
  },
  {
   "cell_type": "markdown",
   "metadata": {},
   "source": [
    "# Feature Engineering: Machine Learning Model"
   ]
  },
  {
   "cell_type": "markdown",
   "metadata": {},
   "source": [
    "For the feature engineering part, I decided to decompose the timestamp in day, hour, minute and second to check which timeslot might be more likeable for the fraudsters."
   ]
  },
  {
   "cell_type": "code",
   "execution_count": 34,
   "metadata": {},
   "outputs": [],
   "source": [
    "df_final[\"day\"] = list(map(get_day, df_final[\"v3\"]))"
   ]
  },
  {
   "cell_type": "code",
   "execution_count": 35,
   "metadata": {},
   "outputs": [],
   "source": [
    "df_final[\"hour\"] = list(map(get_hour, df_final[\"v3\"]))"
   ]
  },
  {
   "cell_type": "code",
   "execution_count": 36,
   "metadata": {},
   "outputs": [],
   "source": [
    "df_final[\"minute\"] = list(map(get_min, df_final[\"v3\"]))"
   ]
  },
  {
   "cell_type": "code",
   "execution_count": 37,
   "metadata": {},
   "outputs": [],
   "source": [
    "df_final[\"second\"] = list(map(get_second, df_final[\"v3\"]))"
   ]
  },
  {
   "cell_type": "markdown",
   "metadata": {},
   "source": [
    "I decided to create a feature v7, which is the difference between the transaction balance \"v1\" and the total balance \"v4\". "
   ]
  },
  {
   "cell_type": "code",
   "execution_count": 38,
   "metadata": {},
   "outputs": [],
   "source": [
    "df_final[\"v7\"] = df_final[\"v4\"] - df_final[\"v1\"]"
   ]
  },
  {
   "cell_type": "markdown",
   "metadata": {},
   "source": [
    "I decided to drop the timestamp. And fill the empty values of the timestamp with the value 11 all of them. "
   ]
  },
  {
   "cell_type": "code",
   "execution_count": 39,
   "metadata": {},
   "outputs": [],
   "source": [
    "df_final = df_final.drop(columns=[\"v3\"])"
   ]
  },
  {
   "cell_type": "code",
   "execution_count": 40,
   "metadata": {},
   "outputs": [
    {
     "data": {
      "text/html": [
       "<div>\n",
       "<style scoped>\n",
       "    .dataframe tbody tr th:only-of-type {\n",
       "        vertical-align: middle;\n",
       "    }\n",
       "\n",
       "    .dataframe tbody tr th {\n",
       "        vertical-align: top;\n",
       "    }\n",
       "\n",
       "    .dataframe thead th {\n",
       "        text-align: right;\n",
       "    }\n",
       "</style>\n",
       "<table border=\"1\" class=\"dataframe\">\n",
       "  <thead>\n",
       "    <tr style=\"text-align: right;\">\n",
       "      <th></th>\n",
       "      <th>id</th>\n",
       "      <th>v1</th>\n",
       "      <th>c1</th>\n",
       "      <th>v2</th>\n",
       "      <th>v4</th>\n",
       "      <th>v5</th>\n",
       "      <th>v6</th>\n",
       "      <th>day</th>\n",
       "      <th>hour</th>\n",
       "      <th>minute</th>\n",
       "      <th>second</th>\n",
       "      <th>v7</th>\n",
       "    </tr>\n",
       "  </thead>\n",
       "  <tbody>\n",
       "    <tr>\n",
       "      <th>0</th>\n",
       "      <td>1</td>\n",
       "      <td>426.0</td>\n",
       "      <td>1</td>\n",
       "      <td>23.2</td>\n",
       "      <td>721.2</td>\n",
       "      <td>27.3</td>\n",
       "      <td>0.004793</td>\n",
       "      <td>4.0</td>\n",
       "      <td>17.0</td>\n",
       "      <td>51.0</td>\n",
       "      <td>0.0</td>\n",
       "      <td>295.2</td>\n",
       "    </tr>\n",
       "    <tr>\n",
       "      <th>1</th>\n",
       "      <td>2</td>\n",
       "      <td>429.5</td>\n",
       "      <td>1</td>\n",
       "      <td>23.1</td>\n",
       "      <td>714.0</td>\n",
       "      <td>27.3</td>\n",
       "      <td>0.004783</td>\n",
       "      <td>4.0</td>\n",
       "      <td>17.0</td>\n",
       "      <td>51.0</td>\n",
       "      <td>59.0</td>\n",
       "      <td>284.5</td>\n",
       "    </tr>\n",
       "    <tr>\n",
       "      <th>2</th>\n",
       "      <td>3</td>\n",
       "      <td>426.0</td>\n",
       "      <td>1</td>\n",
       "      <td>23.1</td>\n",
       "      <td>713.5</td>\n",
       "      <td>27.2</td>\n",
       "      <td>0.004779</td>\n",
       "      <td>4.0</td>\n",
       "      <td>17.0</td>\n",
       "      <td>53.0</td>\n",
       "      <td>0.0</td>\n",
       "      <td>287.5</td>\n",
       "    </tr>\n",
       "    <tr>\n",
       "      <th>3</th>\n",
       "      <td>4</td>\n",
       "      <td>426.0</td>\n",
       "      <td>1</td>\n",
       "      <td>23.1</td>\n",
       "      <td>708.2</td>\n",
       "      <td>27.2</td>\n",
       "      <td>0.004772</td>\n",
       "      <td>4.0</td>\n",
       "      <td>17.0</td>\n",
       "      <td>54.0</td>\n",
       "      <td>0.0</td>\n",
       "      <td>282.2</td>\n",
       "    </tr>\n",
       "    <tr>\n",
       "      <th>4</th>\n",
       "      <td>5</td>\n",
       "      <td>426.0</td>\n",
       "      <td>1</td>\n",
       "      <td>23.1</td>\n",
       "      <td>704.5</td>\n",
       "      <td>27.2</td>\n",
       "      <td>0.004757</td>\n",
       "      <td>4.0</td>\n",
       "      <td>17.0</td>\n",
       "      <td>55.0</td>\n",
       "      <td>0.0</td>\n",
       "      <td>278.5</td>\n",
       "    </tr>\n",
       "    <tr>\n",
       "      <th>...</th>\n",
       "      <td>...</td>\n",
       "      <td>...</td>\n",
       "      <td>...</td>\n",
       "      <td>...</td>\n",
       "      <td>...</td>\n",
       "      <td>...</td>\n",
       "      <td>...</td>\n",
       "      <td>...</td>\n",
       "      <td>...</td>\n",
       "      <td>...</td>\n",
       "      <td>...</td>\n",
       "      <td>...</td>\n",
       "    </tr>\n",
       "    <tr>\n",
       "      <th>9138</th>\n",
       "      <td>5411</td>\n",
       "      <td>65.7</td>\n",
       "      <td>0</td>\n",
       "      <td>19.2</td>\n",
       "      <td>423.3</td>\n",
       "      <td>30.8</td>\n",
       "      <td>0.004235</td>\n",
       "      <td>NaN</td>\n",
       "      <td>NaN</td>\n",
       "      <td>NaN</td>\n",
       "      <td>NaN</td>\n",
       "      <td>357.6</td>\n",
       "    </tr>\n",
       "    <tr>\n",
       "      <th>9139</th>\n",
       "      <td>6547</td>\n",
       "      <td>0.0</td>\n",
       "      <td>0</td>\n",
       "      <td>19.3</td>\n",
       "      <td>463.0</td>\n",
       "      <td>26.1</td>\n",
       "      <td>0.003606</td>\n",
       "      <td>NaN</td>\n",
       "      <td>NaN</td>\n",
       "      <td>NaN</td>\n",
       "      <td>NaN</td>\n",
       "      <td>463.0</td>\n",
       "    </tr>\n",
       "    <tr>\n",
       "      <th>9140</th>\n",
       "      <td>1806</td>\n",
       "      <td>0.0</td>\n",
       "      <td>0</td>\n",
       "      <td>20.2</td>\n",
       "      <td>445.0</td>\n",
       "      <td>21.2</td>\n",
       "      <td>0.003104</td>\n",
       "      <td>NaN</td>\n",
       "      <td>NaN</td>\n",
       "      <td>NaN</td>\n",
       "      <td>NaN</td>\n",
       "      <td>445.0</td>\n",
       "    </tr>\n",
       "    <tr>\n",
       "      <th>9141</th>\n",
       "      <td>5606</td>\n",
       "      <td>58.8</td>\n",
       "      <td>0</td>\n",
       "      <td>20.1</td>\n",
       "      <td>420.2</td>\n",
       "      <td>26.3</td>\n",
       "      <td>0.003830</td>\n",
       "      <td>NaN</td>\n",
       "      <td>NaN</td>\n",
       "      <td>NaN</td>\n",
       "      <td>NaN</td>\n",
       "      <td>361.4</td>\n",
       "    </tr>\n",
       "    <tr>\n",
       "      <th>9142</th>\n",
       "      <td>3689</td>\n",
       "      <td>0.0</td>\n",
       "      <td>0</td>\n",
       "      <td>19.6</td>\n",
       "      <td>449.0</td>\n",
       "      <td>19.3</td>\n",
       "      <td>0.002729</td>\n",
       "      <td>NaN</td>\n",
       "      <td>NaN</td>\n",
       "      <td>NaN</td>\n",
       "      <td>NaN</td>\n",
       "      <td>449.0</td>\n",
       "    </tr>\n",
       "  </tbody>\n",
       "</table>\n",
       "<p>9143 rows × 12 columns</p>\n",
       "</div>"
      ],
      "text/plain": [
       "        id     v1  c1    v2     v4    v5        v6  day  hour  minute  second  \\\n",
       "0        1  426.0   1  23.2  721.2  27.3  0.004793  4.0  17.0    51.0     0.0   \n",
       "1        2  429.5   1  23.1  714.0  27.3  0.004783  4.0  17.0    51.0    59.0   \n",
       "2        3  426.0   1  23.1  713.5  27.2  0.004779  4.0  17.0    53.0     0.0   \n",
       "3        4  426.0   1  23.1  708.2  27.2  0.004772  4.0  17.0    54.0     0.0   \n",
       "4        5  426.0   1  23.1  704.5  27.2  0.004757  4.0  17.0    55.0     0.0   \n",
       "...    ...    ...  ..   ...    ...   ...       ...  ...   ...     ...     ...   \n",
       "9138  5411   65.7   0  19.2  423.3  30.8  0.004235  NaN   NaN     NaN     NaN   \n",
       "9139  6547    0.0   0  19.3  463.0  26.1  0.003606  NaN   NaN     NaN     NaN   \n",
       "9140  1806    0.0   0  20.2  445.0  21.2  0.003104  NaN   NaN     NaN     NaN   \n",
       "9141  5606   58.8   0  20.1  420.2  26.3  0.003830  NaN   NaN     NaN     NaN   \n",
       "9142  3689    0.0   0  19.6  449.0  19.3  0.002729  NaN   NaN     NaN     NaN   \n",
       "\n",
       "         v7  \n",
       "0     295.2  \n",
       "1     284.5  \n",
       "2     287.5  \n",
       "3     282.2  \n",
       "4     278.5  \n",
       "...     ...  \n",
       "9138  357.6  \n",
       "9139  463.0  \n",
       "9140  445.0  \n",
       "9141  361.4  \n",
       "9142  449.0  \n",
       "\n",
       "[9143 rows x 12 columns]"
      ]
     },
     "execution_count": 40,
     "metadata": {},
     "output_type": "execute_result"
    }
   ],
   "source": [
    "df_final"
   ]
  },
  {
   "cell_type": "code",
   "execution_count": 41,
   "metadata": {},
   "outputs": [
    {
     "data": {
      "text/html": [
       "<div>\n",
       "<style scoped>\n",
       "    .dataframe tbody tr th:only-of-type {\n",
       "        vertical-align: middle;\n",
       "    }\n",
       "\n",
       "    .dataframe tbody tr th {\n",
       "        vertical-align: top;\n",
       "    }\n",
       "\n",
       "    .dataframe thead th {\n",
       "        text-align: right;\n",
       "    }\n",
       "</style>\n",
       "<table border=\"1\" class=\"dataframe\">\n",
       "  <thead>\n",
       "    <tr style=\"text-align: right;\">\n",
       "      <th></th>\n",
       "      <th>id</th>\n",
       "      <th>val_count</th>\n",
       "    </tr>\n",
       "  </thead>\n",
       "  <tbody>\n",
       "    <tr>\n",
       "      <th>4071</th>\n",
       "      <td>4072</td>\n",
       "      <td>2</td>\n",
       "    </tr>\n",
       "    <tr>\n",
       "      <th>3311</th>\n",
       "      <td>3312</td>\n",
       "      <td>2</td>\n",
       "    </tr>\n",
       "    <tr>\n",
       "      <th>6963</th>\n",
       "      <td>6964</td>\n",
       "      <td>2</td>\n",
       "    </tr>\n",
       "    <tr>\n",
       "      <th>3279</th>\n",
       "      <td>3280</td>\n",
       "      <td>2</td>\n",
       "    </tr>\n",
       "    <tr>\n",
       "      <th>6965</th>\n",
       "      <td>6966</td>\n",
       "      <td>2</td>\n",
       "    </tr>\n",
       "    <tr>\n",
       "      <th>...</th>\n",
       "      <td>...</td>\n",
       "      <td>...</td>\n",
       "    </tr>\n",
       "    <tr>\n",
       "      <th>2885</th>\n",
       "      <td>2886</td>\n",
       "      <td>1</td>\n",
       "    </tr>\n",
       "    <tr>\n",
       "      <th>2883</th>\n",
       "      <td>2884</td>\n",
       "      <td>1</td>\n",
       "    </tr>\n",
       "    <tr>\n",
       "      <th>2882</th>\n",
       "      <td>2883</td>\n",
       "      <td>1</td>\n",
       "    </tr>\n",
       "    <tr>\n",
       "      <th>2881</th>\n",
       "      <td>2882</td>\n",
       "      <td>1</td>\n",
       "    </tr>\n",
       "    <tr>\n",
       "      <th>8142</th>\n",
       "      <td>8143</td>\n",
       "      <td>1</td>\n",
       "    </tr>\n",
       "  </tbody>\n",
       "</table>\n",
       "<p>8143 rows × 2 columns</p>\n",
       "</div>"
      ],
      "text/plain": [
       "        id  val_count\n",
       "4071  4072          2\n",
       "3311  3312          2\n",
       "6963  6964          2\n",
       "3279  3280          2\n",
       "6965  6966          2\n",
       "...    ...        ...\n",
       "2885  2886          1\n",
       "2883  2884          1\n",
       "2882  2883          1\n",
       "2881  2882          1\n",
       "8142  8143          1\n",
       "\n",
       "[8143 rows x 2 columns]"
      ]
     },
     "execution_count": 41,
     "metadata": {},
     "output_type": "execute_result"
    }
   ],
   "source": [
    "# check amount of registers per customer.\n",
    "df_cust = pd.DataFrame(df_final[\"id\"], columns=[\"id\"])\n",
    "df_cust[\"val_count\"] = 1\n",
    "df_cust = df_cust.groupby([\"id\"]).sum().reset_index()\n",
    "df_cust.sort_values(by=[\"val_count\"], ascending=False)"
   ]
  },
  {
   "cell_type": "markdown",
   "metadata": {},
   "source": [
    "Drawbacks of handling too less data. I cannot include mean values over time to detect inusual movements. I cannot include lags, we have just 2 observations at maximum per customer. Given the lack of data, I cannot proceed any further to create more attributes related to time. "
   ]
  },
  {
   "cell_type": "markdown",
   "metadata": {},
   "source": [
    "# Machine Learning Model implementation"
   ]
  },
  {
   "cell_type": "markdown",
   "metadata": {},
   "source": [
    "For this kind of implementation I decided to proceed with a feed forward neural network."
   ]
  },
  {
   "cell_type": "code",
   "execution_count": 42,
   "metadata": {},
   "outputs": [],
   "source": [
    "# First I am going to separate my data into x and y.\n",
    "y = df_final[\"c1\"]\n",
    "x = df_final.drop(columns=[\"id\",\"c1\"])"
   ]
  },
  {
   "cell_type": "code",
   "execution_count": 43,
   "metadata": {},
   "outputs": [
    {
     "data": {
      "text/plain": [
       "0.211090451711692"
      ]
     },
     "execution_count": 43,
     "metadata": {},
     "output_type": "execute_result"
    }
   ],
   "source": [
    "# imbalance data check, not imabalance it has 20% fraud.\n",
    "uno = y[y==1] \n",
    "len(uno)/len(y)"
   ]
  },
  {
   "cell_type": "code",
   "execution_count": 44,
   "metadata": {},
   "outputs": [],
   "source": [
    "# I am going to fill empty values with the mean day, hour, minute and second. \n",
    "x[\"day\"] = x[\"day\"].fillna(x[\"day\"].mean())\n",
    "x[\"hour\"] = x[\"hour\"].fillna(x[\"hour\"].mean())\n",
    "x[\"minute\"] = x[\"minute\"].fillna(x[\"minute\"].mean())\n",
    "x[\"second\"] = x[\"second\"].fillna(x[\"second\"].mean())"
   ]
  },
  {
   "cell_type": "code",
   "execution_count": 45,
   "metadata": {},
   "outputs": [
    {
     "data": {
      "text/html": [
       "<div>\n",
       "<style scoped>\n",
       "    .dataframe tbody tr th:only-of-type {\n",
       "        vertical-align: middle;\n",
       "    }\n",
       "\n",
       "    .dataframe tbody tr th {\n",
       "        vertical-align: top;\n",
       "    }\n",
       "\n",
       "    .dataframe thead th {\n",
       "        text-align: right;\n",
       "    }\n",
       "</style>\n",
       "<table border=\"1\" class=\"dataframe\">\n",
       "  <thead>\n",
       "    <tr style=\"text-align: right;\">\n",
       "      <th></th>\n",
       "      <th>v1</th>\n",
       "      <th>v2</th>\n",
       "      <th>v4</th>\n",
       "      <th>v5</th>\n",
       "      <th>v6</th>\n",
       "      <th>day</th>\n",
       "      <th>hour</th>\n",
       "      <th>minute</th>\n",
       "      <th>second</th>\n",
       "      <th>v7</th>\n",
       "    </tr>\n",
       "  </thead>\n",
       "  <tbody>\n",
       "    <tr>\n",
       "      <th>0</th>\n",
       "      <td>426.0</td>\n",
       "      <td>23.2</td>\n",
       "      <td>721.2</td>\n",
       "      <td>27.3</td>\n",
       "      <td>0.004793</td>\n",
       "      <td>4.000000</td>\n",
       "      <td>17.000000</td>\n",
       "      <td>51.00000</td>\n",
       "      <td>0.000000</td>\n",
       "      <td>295.2</td>\n",
       "    </tr>\n",
       "    <tr>\n",
       "      <th>1</th>\n",
       "      <td>429.5</td>\n",
       "      <td>23.1</td>\n",
       "      <td>714.0</td>\n",
       "      <td>27.3</td>\n",
       "      <td>0.004783</td>\n",
       "      <td>4.000000</td>\n",
       "      <td>17.000000</td>\n",
       "      <td>51.00000</td>\n",
       "      <td>59.000000</td>\n",
       "      <td>284.5</td>\n",
       "    </tr>\n",
       "    <tr>\n",
       "      <th>2</th>\n",
       "      <td>426.0</td>\n",
       "      <td>23.1</td>\n",
       "      <td>713.5</td>\n",
       "      <td>27.2</td>\n",
       "      <td>0.004779</td>\n",
       "      <td>4.000000</td>\n",
       "      <td>17.000000</td>\n",
       "      <td>53.00000</td>\n",
       "      <td>0.000000</td>\n",
       "      <td>287.5</td>\n",
       "    </tr>\n",
       "    <tr>\n",
       "      <th>3</th>\n",
       "      <td>426.0</td>\n",
       "      <td>23.1</td>\n",
       "      <td>708.2</td>\n",
       "      <td>27.2</td>\n",
       "      <td>0.004772</td>\n",
       "      <td>4.000000</td>\n",
       "      <td>17.000000</td>\n",
       "      <td>54.00000</td>\n",
       "      <td>0.000000</td>\n",
       "      <td>282.2</td>\n",
       "    </tr>\n",
       "    <tr>\n",
       "      <th>4</th>\n",
       "      <td>426.0</td>\n",
       "      <td>23.1</td>\n",
       "      <td>704.5</td>\n",
       "      <td>27.2</td>\n",
       "      <td>0.004757</td>\n",
       "      <td>4.000000</td>\n",
       "      <td>17.000000</td>\n",
       "      <td>55.00000</td>\n",
       "      <td>0.000000</td>\n",
       "      <td>278.5</td>\n",
       "    </tr>\n",
       "    <tr>\n",
       "      <th>...</th>\n",
       "      <td>...</td>\n",
       "      <td>...</td>\n",
       "      <td>...</td>\n",
       "      <td>...</td>\n",
       "      <td>...</td>\n",
       "      <td>...</td>\n",
       "      <td>...</td>\n",
       "      <td>...</td>\n",
       "      <td>...</td>\n",
       "      <td>...</td>\n",
       "    </tr>\n",
       "    <tr>\n",
       "      <th>9138</th>\n",
       "      <td>65.7</td>\n",
       "      <td>19.2</td>\n",
       "      <td>423.3</td>\n",
       "      <td>30.8</td>\n",
       "      <td>0.004235</td>\n",
       "      <td>7.075525</td>\n",
       "      <td>11.390642</td>\n",
       "      <td>29.49429</td>\n",
       "      <td>18.360064</td>\n",
       "      <td>357.6</td>\n",
       "    </tr>\n",
       "    <tr>\n",
       "      <th>9139</th>\n",
       "      <td>0.0</td>\n",
       "      <td>19.3</td>\n",
       "      <td>463.0</td>\n",
       "      <td>26.1</td>\n",
       "      <td>0.003606</td>\n",
       "      <td>7.075525</td>\n",
       "      <td>11.390642</td>\n",
       "      <td>29.49429</td>\n",
       "      <td>18.360064</td>\n",
       "      <td>463.0</td>\n",
       "    </tr>\n",
       "    <tr>\n",
       "      <th>9140</th>\n",
       "      <td>0.0</td>\n",
       "      <td>20.2</td>\n",
       "      <td>445.0</td>\n",
       "      <td>21.2</td>\n",
       "      <td>0.003104</td>\n",
       "      <td>7.075525</td>\n",
       "      <td>11.390642</td>\n",
       "      <td>29.49429</td>\n",
       "      <td>18.360064</td>\n",
       "      <td>445.0</td>\n",
       "    </tr>\n",
       "    <tr>\n",
       "      <th>9141</th>\n",
       "      <td>58.8</td>\n",
       "      <td>20.1</td>\n",
       "      <td>420.2</td>\n",
       "      <td>26.3</td>\n",
       "      <td>0.003830</td>\n",
       "      <td>7.075525</td>\n",
       "      <td>11.390642</td>\n",
       "      <td>29.49429</td>\n",
       "      <td>18.360064</td>\n",
       "      <td>361.4</td>\n",
       "    </tr>\n",
       "    <tr>\n",
       "      <th>9142</th>\n",
       "      <td>0.0</td>\n",
       "      <td>19.6</td>\n",
       "      <td>449.0</td>\n",
       "      <td>19.3</td>\n",
       "      <td>0.002729</td>\n",
       "      <td>7.075525</td>\n",
       "      <td>11.390642</td>\n",
       "      <td>29.49429</td>\n",
       "      <td>18.360064</td>\n",
       "      <td>449.0</td>\n",
       "    </tr>\n",
       "  </tbody>\n",
       "</table>\n",
       "<p>9143 rows × 10 columns</p>\n",
       "</div>"
      ],
      "text/plain": [
       "         v1    v2     v4    v5        v6       day       hour    minute  \\\n",
       "0     426.0  23.2  721.2  27.3  0.004793  4.000000  17.000000  51.00000   \n",
       "1     429.5  23.1  714.0  27.3  0.004783  4.000000  17.000000  51.00000   \n",
       "2     426.0  23.1  713.5  27.2  0.004779  4.000000  17.000000  53.00000   \n",
       "3     426.0  23.1  708.2  27.2  0.004772  4.000000  17.000000  54.00000   \n",
       "4     426.0  23.1  704.5  27.2  0.004757  4.000000  17.000000  55.00000   \n",
       "...     ...   ...    ...   ...       ...       ...        ...       ...   \n",
       "9138   65.7  19.2  423.3  30.8  0.004235  7.075525  11.390642  29.49429   \n",
       "9139    0.0  19.3  463.0  26.1  0.003606  7.075525  11.390642  29.49429   \n",
       "9140    0.0  20.2  445.0  21.2  0.003104  7.075525  11.390642  29.49429   \n",
       "9141   58.8  20.1  420.2  26.3  0.003830  7.075525  11.390642  29.49429   \n",
       "9142    0.0  19.6  449.0  19.3  0.002729  7.075525  11.390642  29.49429   \n",
       "\n",
       "         second     v7  \n",
       "0      0.000000  295.2  \n",
       "1     59.000000  284.5  \n",
       "2      0.000000  287.5  \n",
       "3      0.000000  282.2  \n",
       "4      0.000000  278.5  \n",
       "...         ...    ...  \n",
       "9138  18.360064  357.6  \n",
       "9139  18.360064  463.0  \n",
       "9140  18.360064  445.0  \n",
       "9141  18.360064  361.4  \n",
       "9142  18.360064  449.0  \n",
       "\n",
       "[9143 rows x 10 columns]"
      ]
     },
     "execution_count": 45,
     "metadata": {},
     "output_type": "execute_result"
    }
   ],
   "source": [
    "# Then I am going to normalize the values\n",
    "x"
   ]
  },
  {
   "cell_type": "code",
   "execution_count": 46,
   "metadata": {},
   "outputs": [],
   "source": [
    "sc = MinMaxScaler()\n",
    "x_scale = sc.fit_transform(x)"
   ]
  },
  {
   "cell_type": "code",
   "execution_count": 47,
   "metadata": {},
   "outputs": [],
   "source": [
    "# setting up the feed forward neural network.\n",
    "def build_nn(optimizer='adam'):\n",
    "    classifier = Sequential()\n",
    "    classifier.add(Dense(units=10,kernel_initializer = \"uniform\", activation = \"relu\", input_dim=10))\n",
    "    classifier.add(Dense(units=10,kernel_initializer = \"uniform\", activation=\"relu\"))\n",
    "    classifier.add(Dense(units = 1, kernel_initializer = \"uniform\", activation=\"sigmoid\")) \n",
    "    classifier.compile(optimizer=optimizer, loss=\"binary_crossentropy\", metrics=[\"accuracy\"])\n",
    "    return classifier"
   ]
  },
  {
   "cell_type": "markdown",
   "metadata": {},
   "source": [
    "# Hyperparameter Tunning"
   ]
  },
  {
   "cell_type": "code",
   "execution_count": 48,
   "metadata": {},
   "outputs": [],
   "source": [
    "classifier = KerasClassifier(build_fn = build_nn)"
   ]
  },
  {
   "cell_type": "code",
   "execution_count": 49,
   "metadata": {},
   "outputs": [],
   "source": [
    "parameters = {\n",
    "    'batch_size':[10,20,100],\n",
    "    'nb_epoch':[20,50,250],\n",
    "    'optimizer':['adam','RMSprop']\n",
    "}"
   ]
  },
  {
   "cell_type": "code",
   "execution_count": 50,
   "metadata": {},
   "outputs": [],
   "source": [
    "X_train, X_test, y_train, y_test = train_test_split(x_scale,y,test_size=0.2,random_state=0)"
   ]
  },
  {
   "cell_type": "code",
   "execution_count": 51,
   "metadata": {},
   "outputs": [
    {
     "name": "stdout",
     "output_type": "stream",
     "text": [
      "Fitting 10 folds for each of 18 candidates, totalling 180 fits\n"
     ]
    },
    {
     "name": "stderr",
     "output_type": "stream",
     "text": [
      "[Parallel(n_jobs=1)]: Using backend SequentialBackend with 1 concurrent workers.\n"
     ]
    },
    {
     "name": "stdout",
     "output_type": "stream",
     "text": [
      "WARNING:tensorflow:From C:\\Users\\g1238\\AppData\\Local\\conda\\conda\\envs\\DL\\lib\\site-packages\\tensorflow\\python\\ops\\nn_impl.py:180: add_dispatch_support.<locals>.wrapper (from tensorflow.python.ops.array_ops) is deprecated and will be removed in a future version.\n",
      "Instructions for updating:\n",
      "Use tf.where in 2.0, which has the same broadcast rule as np.where\n",
      "WARNING:tensorflow:From C:\\Users\\g1238\\AppData\\Local\\conda\\conda\\envs\\DL\\lib\\site-packages\\keras\\backend\\tensorflow_backend.py:422: The name tf.global_variables is deprecated. Please use tf.compat.v1.global_variables instead.\n",
      "\n",
      "Epoch 1/1\n",
      "6582/6582 [==============================] - 1s 208us/step - loss: 0.3695 - accuracy: 0.8551\n",
      "Epoch 1/1\n",
      "6582/6582 [==============================] - 1s 199us/step - loss: 0.4212 - accuracy: 0.8339\n",
      "Epoch 1/1\n",
      "6582/6582 [==============================] - 1s 206us/step - loss: 0.3941 - accuracy: 0.7909\n",
      "Epoch 1/1\n",
      "6582/6582 [==============================] - 1s 216us/step - loss: 0.4113 - accuracy: 0.7893\n",
      "Epoch 1/1\n",
      "6583/6583 [==============================] - 1s 222us/step - loss: 0.4120 - accuracy: 0.8279\n",
      "Epoch 1/1\n",
      "6583/6583 [==============================] - 1s 225us/step - loss: 0.4771 - accuracy: 0.7901\n",
      "Epoch 1/1\n",
      "6583/6583 [==============================] - 1s 216us/step - loss: 0.3691 - accuracy: 0.8323\n",
      "Epoch 1/1\n",
      "6583/6583 [==============================] - 2s 234us/step - loss: 0.3810 - accuracy: 0.8399\n",
      "Epoch 1/1\n",
      "6583/6583 [==============================] - 2s 240us/step - loss: 0.4077 - accuracy: 0.7892\n",
      "Epoch 1/1\n",
      "6583/6583 [==============================] - 2s 240us/step - loss: 0.3932 - accuracy: 0.8426\n",
      "Epoch 1/1\n",
      "6582/6582 [==============================] - 2s 232us/step - loss: 0.4440 - accuracy: 0.8093\n",
      "Epoch 1/1\n",
      "6582/6582 [==============================] - 1s 228us/step - loss: 0.4447 - accuracy: 0.8048\n",
      "Epoch 1/1\n",
      "6582/6582 [==============================] - 1s 224us/step - loss: 0.5053 - accuracy: 0.7900\n",
      "Epoch 1/1\n",
      "6582/6582 [==============================] - 2s 249us/step - loss: 0.4367 - accuracy: 0.8105\n",
      "Epoch 1/1\n",
      "6583/6583 [==============================] - 2s 242us/step - loss: 0.4826 - accuracy: 0.7901\n",
      "Epoch 1/1\n",
      "6583/6583 [==============================] - 2s 249us/step - loss: 0.4358 - accuracy: 0.8200\n",
      "Epoch 1/1\n",
      "6583/6583 [==============================] - 2s 245us/step - loss: 0.4316 - accuracy: 0.7873\n",
      "Epoch 1/1\n",
      "6583/6583 [==============================] - 2s 251us/step - loss: 0.4630 - accuracy: 0.8046\n",
      "Epoch 1/1\n",
      "6583/6583 [==============================] - 2s 245us/step - loss: 0.4875 - accuracy: 0.7887\n",
      "Epoch 1/1\n",
      "6583/6583 [==============================] - 2s 256us/step - loss: 0.4656 - accuracy: 0.7892\n",
      "Epoch 1/1\n",
      "6582/6582 [==============================] - 2s 273us/step - loss: 0.4085 - accuracy: 0.8163\n",
      "Epoch 1/1\n",
      "6582/6582 [==============================] - 2s 280us/step - loss: 0.4041 - accuracy: 0.8342\n",
      "Epoch 1/1\n",
      "6582/6582 [==============================] - 2s 288us/step - loss: 0.4374 - accuracy: 0.7999\n",
      "Epoch 1/1\n",
      "6582/6582 [==============================] - 2s 289us/step - loss: 0.3669 - accuracy: 0.8573\n",
      "Epoch 1/1\n",
      "6583/6583 [==============================] - 2s 287us/step - loss: 0.4243 - accuracy: 0.7995\n",
      "Epoch 1/1\n",
      "6583/6583 [==============================] - 2s 295us/step - loss: 0.3620 - accuracy: 0.8540\n",
      "Epoch 1/1\n",
      "6583/6583 [==============================] - 2s 303us/step - loss: 0.3883 - accuracy: 0.8425\n",
      "Epoch 1/1\n",
      "6583/6583 [==============================] - 2s 299us/step - loss: 0.4406 - accuracy: 0.7901\n",
      "Epoch 1/1\n",
      "6583/6583 [==============================] - 2s 308us/step - loss: 0.3521 - accuracy: 0.8571\n",
      "Epoch 1/1\n",
      "6583/6583 [==============================] - 2s 320us/step - loss: 0.3791 - accuracy: 0.8448\n",
      "Epoch 1/1\n",
      "6582/6582 [==============================] - 2s 298us/step - loss: 0.4360 - accuracy: 0.7896\n",
      "Epoch 1/1\n",
      "6582/6582 [==============================] - 2s 298us/step - loss: 0.4421 - accuracy: 0.8087\n",
      "Epoch 1/1\n",
      "6582/6582 [==============================] - 2s 300us/step - loss: 0.4939 - accuracy: 0.7902\n",
      "Epoch 1/1\n",
      "6582/6582 [==============================] - 2s 321us/step - loss: 0.4782 - accuracy: 0.7887\n",
      "Epoch 1/1\n",
      "6583/6583 [==============================] - 2s 315us/step - loss: 0.4439 - accuracy: 0.7901\n",
      "Epoch 1/1\n",
      "6583/6583 [==============================] - 2s 292us/step - loss: 0.4396 - accuracy: 0.7945\n",
      "Epoch 1/1\n",
      "6583/6583 [==============================] - 2s 317us/step - loss: 0.5039 - accuracy: 0.7878\n",
      "Epoch 1/1\n",
      "6583/6583 [==============================] - 2s 311us/step - loss: 0.5143 - accuracy: 0.7890\n",
      "Epoch 1/1\n",
      "6583/6583 [==============================] - 2s 316us/step - loss: 0.4748 - accuracy: 0.7890\n",
      "Epoch 1/1\n",
      "6583/6583 [==============================] - 2s 325us/step - loss: 0.4780 - accuracy: 0.7879\n",
      "Epoch 1/1\n",
      "6582/6582 [==============================] - 2s 337us/step - loss: 0.4133 - accuracy: 0.8355\n",
      "Epoch 1/1\n",
      "6582/6582 [==============================] - 2s 344us/step - loss: 0.4322 - accuracy: 0.7888\n",
      "Epoch 1/1\n",
      "6582/6582 [==============================] - 2s 350us/step - loss: 0.4020 - accuracy: 0.8248\n",
      "Epoch 1/1\n",
      "6582/6582 [==============================] - 2s 363us/step - loss: 0.4636 - accuracy: 0.7891\n",
      "Epoch 1/1\n",
      "6583/6583 [==============================] - 2s 380us/step - loss: 0.4322 - accuracy: 0.8195\n",
      "Epoch 1/1\n",
      "6583/6583 [==============================] - 3s 386us/step - loss: 0.3742 - accuracy: 0.8520\n",
      "Epoch 1/1\n",
      "6583/6583 [==============================] - 2s 373us/step - loss: 0.3970 - accuracy: 0.8458\n",
      "Epoch 1/1\n",
      "6583/6583 [==============================] - 3s 391us/step - loss: 0.3419 - accuracy: 0.8650\n",
      "Epoch 1/1\n",
      "6583/6583 [==============================] - 2s 371us/step - loss: 0.3641 - accuracy: 0.8627\n",
      "Epoch 1/1\n",
      "6583/6583 [==============================] - 3s 396us/step - loss: 0.4139 - accuracy: 0.8245\n",
      "Epoch 1/1\n",
      "6582/6582 [==============================] - 3s 400us/step - loss: 0.4886 - accuracy: 0.7902\n",
      "Epoch 1/1\n",
      "6582/6582 [==============================] - 3s 385us/step - loss: 0.4840 - accuracy: 0.7947\n",
      "Epoch 1/1\n",
      "6582/6582 [==============================] - 3s 396us/step - loss: 0.5132 - accuracy: 0.7899\n",
      "Epoch 1/1\n",
      "6582/6582 [==============================] - 3s 403us/step - loss: 0.4778 - accuracy: 0.7885\n",
      "Epoch 1/1\n",
      "6583/6583 [==============================] - 3s 400us/step - loss: 0.5010 - accuracy: 0.7910\n",
      "Epoch 1/1\n",
      "6583/6583 [==============================] - 3s 395us/step - loss: 0.4299 - accuracy: 0.82180s - loss: 0.4609 - accu\n",
      "Epoch 1/1\n",
      "6583/6583 [==============================] - 3s 407us/step - loss: 0.5132 - accuracy: 0.7873\n",
      "Epoch 1/1\n",
      "6583/6583 [==============================] - 3s 396us/step - loss: 0.4971 - accuracy: 0.7889\n",
      "Epoch 1/1\n",
      "6583/6583 [==============================] - 3s 407us/step - loss: 0.4899 - accuracy: 0.7882\n",
      "Epoch 1/1\n",
      "6583/6583 [==============================] - 3s 416us/step - loss: 0.4668 - accuracy: 0.7890\n",
      "Epoch 1/1\n",
      "6582/6582 [==============================] - 2s 284us/step - loss: 0.5442 - accuracy: 0.7903\n",
      "Epoch 1/1\n",
      "6582/6582 [==============================] - 2s 309us/step - loss: 0.4821 - accuracy: 0.7938\n",
      "Epoch 1/1\n",
      "6582/6582 [==============================] - 2s 293us/step - loss: 0.4831 - accuracy: 0.7905\n",
      "Epoch 1/1\n",
      "6582/6582 [==============================] - 2s 289us/step - loss: 0.5603 - accuracy: 0.7893\n",
      "Epoch 1/1\n",
      "6583/6583 [==============================] - 2s 292us/step - loss: 0.5277 - accuracy: 0.7879\n",
      "Epoch 1/1\n",
      "6583/6583 [==============================] - 2s 290us/step - loss: 0.5205 - accuracy: 0.7910\n",
      "Epoch 1/1\n",
      "6583/6583 [==============================] - 2s 305us/step - loss: 0.5651 - accuracy: 0.7872\n",
      "Epoch 1/1\n",
      "6583/6583 [==============================] - 2s 308us/step - loss: 0.5098 - accuracy: 0.7893\n",
      "Epoch 1/1\n",
      "6583/6583 [==============================] - 2s 296us/step - loss: 0.5311 - accuracy: 0.7898\n",
      "Epoch 1/1\n",
      "6583/6583 [==============================] - 2s 308us/step - loss: 0.5241 - accuracy: 0.7872\n",
      "Epoch 1/1\n",
      "6582/6582 [==============================] - 2s 298us/step - loss: 0.5425 - accuracy: 0.7897\n",
      "Epoch 1/1\n",
      "6582/6582 [==============================] - 2s 309us/step - loss: 0.5342 - accuracy: 0.7891\n",
      "Epoch 1/1\n",
      "6582/6582 [==============================] - 2s 320us/step - loss: 0.5531 - accuracy: 0.79111s - loss: 0\n",
      "Epoch 1/1\n"
     ]
    },
    {
     "name": "stdout",
     "output_type": "stream",
     "text": [
      "6582/6582 [==============================] - 2s 315us/step - loss: 0.5338 - accuracy: 0.7890\n",
      "Epoch 1/1\n",
      "6583/6583 [==============================] - 2s 318us/step - loss: 0.5203 - accuracy: 0.7899\n",
      "Epoch 1/1\n",
      "6583/6583 [==============================] - 2s 327us/step - loss: 0.5322 - accuracy: 0.7884\n",
      "Epoch 1/1\n",
      "6583/6583 [==============================] - 1s 137us/step - loss: 0.5466 - accuracy: 0.7879\n",
      "Epoch 1/1\n",
      "6583/6583 [==============================] - 2s 331us/step - loss: 0.5494 - accuracy: 0.7881\n",
      "Epoch 1/1\n",
      "6583/6583 [==============================] - 2s 332us/step - loss: 0.5730 - accuracy: 0.7882\n",
      "Epoch 1/1\n",
      "6583/6583 [==============================] - 2s 330us/step - loss: 0.5303 - accuracy: 0.7884\n",
      "Epoch 1/1\n",
      "6582/6582 [==============================] - 2s 355us/step - loss: 0.4669 - accuracy: 0.8102\n",
      "Epoch 1/1\n",
      "6582/6582 [==============================] - 2s 344us/step - loss: 0.5237 - accuracy: 0.7879\n",
      "Epoch 1/1\n",
      "6582/6582 [==============================] - 2s 350us/step - loss: 0.5053 - accuracy: 0.7909\n",
      "Epoch 1/1\n",
      "6582/6582 [==============================] - 2s 373us/step - loss: 0.4908 - accuracy: 0.7954\n",
      "Epoch 1/1\n",
      "6583/6583 [==============================] - 2s 355us/step - loss: 0.4949 - accuracy: 0.7901\n",
      "Epoch 1/1\n",
      "6583/6583 [==============================] - 2s 378us/step - loss: 0.5294 - accuracy: 0.7902\n",
      "Epoch 1/1\n",
      "6583/6583 [==============================] - 3s 410us/step - loss: 0.5075 - accuracy: 0.7876\n",
      "Epoch 1/1\n",
      "6583/6583 [==============================] - 3s 395us/step - loss: 0.5397 - accuracy: 0.7893\n",
      "Epoch 1/1\n",
      "6583/6583 [==============================] - 3s 384us/step - loss: 0.5058 - accuracy: 0.7898\n",
      "Epoch 1/1\n",
      "6583/6583 [==============================] - 2s 376us/step - loss: 0.5196 - accuracy: 0.7930\n",
      "Epoch 1/1\n",
      "6582/6582 [==============================] - 3s 386us/step - loss: 0.5450 - accuracy: 0.7903\n",
      "Epoch 1/1\n",
      "6582/6582 [==============================] - 2s 374us/step - loss: 0.5618 - accuracy: 0.7867\n",
      "Epoch 1/1\n",
      "6582/6582 [==============================] - 2s 373us/step - loss: 0.5461 - accuracy: 0.7884\n",
      "Epoch 1/1\n",
      "6582/6582 [==============================] - 3s 408us/step - loss: 0.5281 - accuracy: 0.78760s - loss: 0.5282 - accuracy: 0.78\n",
      "Epoch 1/1\n",
      "6583/6583 [==============================] - 3s 381us/step - loss: 0.5692 - accuracy: 0.7887\n",
      "Epoch 1/1\n",
      "6583/6583 [==============================] - 3s 399us/step - loss: 0.5421 - accuracy: 0.7893\n",
      "Epoch 1/1\n",
      "6583/6583 [==============================] - 2s 377us/step - loss: 0.5588 - accuracy: 0.7872\n",
      "Epoch 1/1\n",
      "6583/6583 [==============================] - 3s 391us/step - loss: 0.5471 - accuracy: 0.7872\n",
      "Epoch 1/1\n",
      "6583/6583 [==============================] - 2s 376us/step - loss: 0.5296 - accuracy: 0.7899\n",
      "Epoch 1/1\n",
      "6583/6583 [==============================] - 3s 383us/step - loss: 0.5181 - accuracy: 0.7882\n",
      "Epoch 1/1\n",
      "6582/6582 [==============================] - 3s 405us/step - loss: 0.4824 - accuracy: 0.8077\n",
      "Epoch 1/1\n",
      "6582/6582 [==============================] - 3s 406us/step - loss: 0.5001 - accuracy: 0.7969\n",
      "Epoch 1/1\n",
      "6582/6582 [==============================] - 3s 424us/step - loss: 0.5240 - accuracy: 0.7908\n",
      "Epoch 1/1\n",
      "6582/6582 [==============================] - 3s 432us/step - loss: 0.5291 - accuracy: 0.7885\n",
      "Epoch 1/1\n",
      "6583/6583 [==============================] - 3s 427us/step - loss: 0.5340 - accuracy: 0.7882\n",
      "Epoch 1/1\n",
      "6583/6583 [==============================] - 3s 445us/step - loss: 0.5347 - accuracy: 0.7905\n",
      "Epoch 1/1\n",
      "6583/6583 [==============================] - 3s 432us/step - loss: 0.5246 - accuracy: 0.7873\n",
      "Epoch 1/1\n",
      "6583/6583 [==============================] - 3s 433us/step - loss: 0.4904 - accuracy: 0.7896\n",
      "Epoch 1/1\n",
      "6583/6583 [==============================] - 3s 449us/step - loss: 0.5043 - accuracy: 0.7882\n",
      "Epoch 1/1\n",
      "6583/6583 [==============================] - 3s 442us/step - loss: 0.5246 - accuracy: 0.7879\n",
      "Epoch 1/1\n",
      "6582/6582 [==============================] - 3s 435us/step - loss: 0.5631 - accuracy: 0.7890\n",
      "Epoch 1/1\n",
      "6582/6582 [==============================] - 3s 440us/step - loss: 0.5167 - accuracy: 0.7891\n",
      "Epoch 1/1\n",
      "6582/6582 [==============================] - 3s 432us/step - loss: 0.5155 - accuracy: 0.7899\n",
      "Epoch 1/1\n",
      "6582/6582 [==============================] - 3s 455us/step - loss: 0.5326 - accuracy: 0.7879\n",
      "Epoch 1/1\n",
      "6583/6583 [==============================] - 3s 474us/step - loss: 0.5531 - accuracy: 0.7896\n",
      "Epoch 1/1\n",
      "6583/6583 [==============================] - 3s 461us/step - loss: 0.5522 - accuracy: 0.7899\n",
      "Epoch 1/1\n",
      "6583/6583 [==============================] - 3s 448us/step - loss: 0.5323 - accuracy: 0.7884\n",
      "Epoch 1/1\n",
      "6583/6583 [==============================] - 3s 450us/step - loss: 0.5212 - accuracy: 0.7890\n",
      "Epoch 1/1\n",
      "6583/6583 [==============================] - 3s 456us/step - loss: 0.5418 - accuracy: 0.7898\n",
      "Epoch 1/1\n",
      "6583/6583 [==============================] - 3s 465us/step - loss: 0.5428 - accuracy: 0.7892\n",
      "Epoch 1/1\n",
      "6582/6582 [==============================] - 2s 296us/step - loss: 0.6725 - accuracy: 0.7882\n",
      "Epoch 1/1\n",
      "6582/6582 [==============================] - 2s 275us/step - loss: 0.6747 - accuracy: 0.7882\n",
      "Epoch 1/1\n",
      "6582/6582 [==============================] - 2s 296us/step - loss: 0.6736 - accuracy: 0.7906\n",
      "Epoch 1/1\n",
      "6582/6582 [==============================] - 2s 287us/step - loss: 0.6749 - accuracy: 0.7783\n",
      "Epoch 1/1\n",
      "6583/6583 [==============================] - 2s 277us/step - loss: 0.6711 - accuracy: 0.7901\n",
      "Epoch 1/1\n",
      "6583/6583 [==============================] - 2s 283us/step - loss: 0.6722 - accuracy: 0.7887\n",
      "Epoch 1/1\n",
      "6583/6583 [==============================] - 2s 301us/step - loss: 0.6792 - accuracy: 0.7854\n",
      "Epoch 1/1\n",
      "6583/6583 [==============================] - 2s 312us/step - loss: 0.6751 - accuracy: 0.7826\n",
      "Epoch 1/1\n",
      "6583/6583 [==============================] - 2s 287us/step - loss: 0.6760 - accuracy: 0.7831\n",
      "Epoch 1/1\n",
      "6583/6583 [==============================] - 2s 298us/step - loss: 0.6733 - accuracy: 0.7893\n",
      "Epoch 1/1\n",
      "6582/6582 [==============================] - 2s 295us/step - loss: 0.6658 - accuracy: 0.7832\n",
      "Epoch 1/1\n",
      "6582/6582 [==============================] - 2s 285us/step - loss: 0.6581 - accuracy: 0.7891\n",
      "Epoch 1/1\n",
      "6582/6582 [==============================] - 2s 303us/step - loss: 0.6573 - accuracy: 0.7911\n",
      "Epoch 1/1\n",
      "6582/6582 [==============================] - 2s 304us/step - loss: 0.6691 - accuracy: 0.7853\n",
      "Epoch 1/1\n",
      "6583/6583 [==============================] - 2s 297us/step - loss: 0.6526 - accuracy: 0.7898\n",
      "Epoch 1/1\n",
      "6583/6583 [==============================] - 2s 313us/step - loss: 0.6681 - accuracy: 0.7846\n",
      "Epoch 1/1\n",
      "6583/6583 [==============================] - 2s 321us/step - loss: 0.6654 - accuracy: 0.7803\n",
      "Epoch 1/1\n",
      "6583/6583 [==============================] - 2s 307us/step - loss: 0.6567 - accuracy: 0.7837\n",
      "Epoch 1/1\n",
      "6583/6583 [==============================] - 2s 316us/step - loss: 0.6623 - accuracy: 0.7834\n",
      "Epoch 1/1\n",
      "6583/6583 [==============================] - 2s 302us/step - loss: 0.6616 - accuracy: 0.7890\n",
      "Epoch 1/1\n",
      "6582/6582 [==============================] - 2s 314us/step - loss: 0.6759 - accuracy: 0.7896\n",
      "Epoch 1/1\n",
      "6582/6582 [==============================] - 2s 345us/step - loss: 0.6750 - accuracy: 0.7785\n",
      "Epoch 1/1\n",
      "6582/6582 [==============================] - 2s 328us/step - loss: 0.6738 - accuracy: 0.7835\n",
      "Epoch 1/1\n",
      "6582/6582 [==============================] - 2s 328us/step - loss: 0.6742 - accuracy: 0.7802\n",
      "Epoch 1/1\n",
      "6583/6583 [==============================] - 2s 360us/step - loss: 0.6760 - accuracy: 0.7878\n",
      "Epoch 1/1\n",
      "6583/6583 [==============================] - 2s 329us/step - loss: 0.6767 - accuracy: 0.7829\n",
      "Epoch 1/1\n",
      "6583/6583 [==============================] - 2s 355us/step - loss: 0.6743 - accuracy: 0.7884\n",
      "Epoch 1/1\n",
      "6583/6583 [==============================] - 2s 316us/step - loss: 0.6740 - accuracy: 0.7808\n",
      "Epoch 1/1\n",
      "6583/6583 [==============================] - 2s 344us/step - loss: 0.6747 - accuracy: 0.7898\n",
      "Epoch 1/1\n",
      "6583/6583 [==============================] - 2s 358us/step - loss: 0.6766 - accuracy: 0.7892\n",
      "Epoch 1/1\n",
      "6582/6582 [==============================] - 2s 319us/step - loss: 0.6705 - accuracy: 0.7903\n",
      "Epoch 1/1\n",
      "6582/6582 [==============================] - 2s 330us/step - loss: 0.6475 - accuracy: 0.7890\n",
      "Epoch 1/1\n"
     ]
    },
    {
     "name": "stdout",
     "output_type": "stream",
     "text": [
      "6582/6582 [==============================] - 2s 350us/step - loss: 0.6665 - accuracy: 0.7911\n",
      "Epoch 1/1\n",
      "6582/6582 [==============================] - 2s 361us/step - loss: 0.6702 - accuracy: 0.7858\n",
      "Epoch 1/1\n",
      "6583/6583 [==============================] - 3s 381us/step - loss: 0.6500 - accuracy: 0.7901\n",
      "Epoch 1/1\n",
      "6583/6583 [==============================] - 2s 377us/step - loss: 0.6660 - accuracy: 0.7884\n",
      "Epoch 1/1\n",
      "6583/6583 [==============================] - 3s 389us/step - loss: 0.6680 - accuracy: 0.7869\n",
      "Epoch 1/1\n",
      "6583/6583 [==============================] - 3s 386us/step - loss: 0.6665 - accuracy: 0.7893\n",
      "Epoch 1/1\n",
      "6583/6583 [==============================] - 3s 424us/step - loss: 0.6595 - accuracy: 0.7870\n",
      "Epoch 1/1\n",
      "6583/6583 [==============================] - 3s 419us/step - loss: 0.6657 - accuracy: 0.7814\n",
      "Epoch 1/1\n",
      "6582/6582 [==============================] - 2s 327us/step - loss: 0.6757 - accuracy: 0.7832\n",
      "Epoch 1/1\n",
      "6582/6582 [==============================] - 2s 366us/step - loss: 0.6742 - accuracy: 0.7890\n",
      "Epoch 1/1\n",
      "6582/6582 [==============================] - 2s 329us/step - loss: 0.6733 - accuracy: 0.7902\n",
      "Epoch 1/1\n",
      "6582/6582 [==============================] - 2s 368us/step - loss: 0.6759 - accuracy: 0.7799\n",
      "Epoch 1/1\n",
      "6583/6583 [==============================] - 3s 404us/step - loss: 0.6723 - accuracy: 0.7797\n",
      "Epoch 1/1\n",
      "6583/6583 [==============================] - 2s 376us/step - loss: 0.6808 - accuracy: 0.7799\n",
      "Epoch 1/1\n",
      "6583/6583 [==============================] - 2s 376us/step - loss: 0.6748 - accuracy: 0.7811\n",
      "Epoch 1/1\n",
      "6583/6583 [==============================] - 2s 355us/step - loss: 0.6735 - accuracy: 0.7823\n",
      "Epoch 1/1\n",
      "6583/6583 [==============================] - 3s 410us/step - loss: 0.6768 - accuracy: 0.7878\n",
      "Epoch 1/1\n",
      "6583/6583 [==============================] - 2s 369us/step - loss: 0.6778 - accuracy: 0.7806\n",
      "Epoch 1/1\n",
      "6582/6582 [==============================] - 2s 357us/step - loss: 0.6634 - accuracy: 0.7838\n",
      "Epoch 1/1\n",
      "6582/6582 [==============================] - 3s 385us/step - loss: 0.6543 - accuracy: 0.7878\n",
      "Epoch 1/1\n",
      "6582/6582 [==============================] - 3s 390us/step - loss: 0.6657 - accuracy: 0.7888\n",
      "Epoch 1/1\n",
      "6582/6582 [==============================] - 2s 366us/step - loss: 0.6664 - accuracy: 0.7783\n",
      "Epoch 1/1\n",
      "6583/6583 [==============================] - 2s 368us/step - loss: 0.6639 - accuracy: 0.7844\n",
      "Epoch 1/1\n",
      "6583/6583 [==============================] - 2s 367us/step - loss: 0.6662 - accuracy: 0.7805\n",
      "Epoch 1/1\n",
      "6583/6583 [==============================] - 2s 370us/step - loss: 0.6684 - accuracy: 0.7817\n",
      "Epoch 1/1\n",
      "6583/6583 [==============================] - 2s 375us/step - loss: 0.6572 - accuracy: 0.7869\n",
      "Epoch 1/1\n",
      "6583/6583 [==============================] - 2s 378us/step - loss: 0.6707 - accuracy: 0.7810\n",
      "Epoch 1/1\n",
      "6583/6583 [==============================] - 3s 381us/step - loss: 0.6710 - accuracy: 0.7811\n"
     ]
    },
    {
     "name": "stderr",
     "output_type": "stream",
     "text": [
      "[Parallel(n_jobs=1)]: Done 180 out of 180 | elapsed: 38.7min finished\n"
     ]
    },
    {
     "name": "stdout",
     "output_type": "stream",
     "text": [
      "Epoch 1/1\n",
      "7314/7314 [==============================] - 7s 917us/step - loss: 0.4272 - accuracy: 0.8440\n"
     ]
    }
   ],
   "source": [
    "grid_search = GridSearchCV(estimator = classifier, param_grid = parameters, scoring = 'accuracy', cv = 10, verbose=1)\n",
    "grid_search = grid_search.fit(X_train, y_train)"
   ]
  },
  {
   "cell_type": "code",
   "execution_count": 52,
   "metadata": {},
   "outputs": [],
   "source": [
    "best_parameters = grid_search.best_params_\n",
    "best_accuracy = grid_search.best_score_"
   ]
  },
  {
   "cell_type": "code",
   "execution_count": 53,
   "metadata": {},
   "outputs": [
    {
     "data": {
      "text/plain": [
       "{'batch_size': 10, 'nb_epoch': 50, 'optimizer': 'adam'}"
      ]
     },
     "execution_count": 53,
     "metadata": {},
     "output_type": "execute_result"
    }
   ],
   "source": [
    "best_parameters"
   ]
  },
  {
   "cell_type": "code",
   "execution_count": 54,
   "metadata": {},
   "outputs": [
    {
     "data": {
      "text/plain": [
       "0.9494133719061395"
      ]
     },
     "execution_count": 54,
     "metadata": {},
     "output_type": "execute_result"
    }
   ],
   "source": [
    "best_accuracy"
   ]
  },
  {
   "cell_type": "markdown",
   "metadata": {},
   "source": [
    "# Model selection\n",
    "\n",
    "The model to be use is a feedforward neural network with the next configuration:\n",
    "    - batch_size:10\n",
    "    - nb_epoch: 20\n",
    "    - optimizer: 'adam'\n",
    "    \n",
    "Why? Because it gave the best accuracy according to the grid search."
   ]
  },
  {
   "cell_type": "code",
   "execution_count": 75,
   "metadata": {},
   "outputs": [
    {
     "name": "stderr",
     "output_type": "stream",
     "text": [
      "[Parallel(n_jobs=1)]: Using backend SequentialBackend with 1 concurrent workers.\n"
     ]
    },
    {
     "name": "stdout",
     "output_type": "stream",
     "text": [
      "Epoch 1/1\n",
      "6582/6582 [==============================] - 7s 1ms/step - loss: 0.3862 - accuracy: 0.8449\n",
      "732/732 [==============================] - 3s 3ms/step\n",
      "Epoch 1/1\n",
      "6582/6582 [==============================] - 7s 1ms/step - loss: 0.3566 - accuracy: 0.8592\n",
      "732/732 [==============================] - 3s 3ms/step\n",
      "Epoch 1/1\n",
      "6582/6582 [==============================] - 7s 1ms/step - loss: 0.4065 - accuracy: 0.8314\n",
      "732/732 [==============================] - 3s 4ms/step\n",
      "Epoch 1/1\n",
      "6582/6582 [==============================] - 7s 1ms/step - loss: 0.3617 - accuracy: 0.8115\n",
      "732/732 [==============================] - 3s 4ms/step\n",
      "Epoch 1/1\n",
      "6583/6583 [==============================] - 7s 1ms/step - loss: 0.3698 - accuracy: 0.8543\n",
      "731/731 [==============================] - 3s 4ms/step\n",
      "Epoch 1/1\n",
      "6583/6583 [==============================] - 7s 1ms/step - loss: 0.4428 - accuracy: 0.7902\n",
      "731/731 [==============================] - 3s 4ms/step\n",
      "Epoch 1/1\n",
      "6583/6583 [==============================] - 7s 1ms/step - loss: 0.3540 - accuracy: 0.8683\n",
      "731/731 [==============================] - 3s 4ms/step\n",
      "Epoch 1/1\n",
      "6583/6583 [==============================] - 7s 1ms/step - loss: 0.4894 - accuracy: 0.7881\n",
      "731/731 [==============================] - 3s 4ms/step\n",
      "Epoch 1/1\n",
      "6583/6583 [==============================] - 7s 1ms/step - loss: 0.4084 - accuracy: 0.8077\n",
      "731/731 [==============================] - 3s 4ms/step\n",
      "Epoch 1/1\n",
      "6583/6583 [==============================] - 7s 1ms/step - loss: 0.3795 - accuracy: 0.8482\n",
      "731/731 [==============================] - 3s 4ms/step\n"
     ]
    },
    {
     "name": "stderr",
     "output_type": "stream",
     "text": [
      "[Parallel(n_jobs=1)]: Done  10 out of  10 | elapsed:  4.9min finished\n"
     ]
    }
   ],
   "source": [
    "classifier = KerasClassifier(build_fn = build_nn, batch_size=10,nb_epoch=20)\n",
    "accuracies = cross_val_score(estimator=classifier, X = X_train, y = y_train, cv = 10, verbose=1)"
   ]
  },
  {
   "cell_type": "code",
   "execution_count": 76,
   "metadata": {},
   "outputs": [
    {
     "data": {
      "text/plain": [
       "0.9329924523830414"
      ]
     },
     "execution_count": 76,
     "metadata": {},
     "output_type": "execute_result"
    }
   ],
   "source": [
    "accuracies.mean()"
   ]
  },
  {
   "cell_type": "code",
   "execution_count": null,
   "metadata": {},
   "outputs": [],
   "source": [
    "k = 5\n",
    "kf = KFold(n_splits=k, random_state=None)\n",
    "\n",
    "clf = RandomForestClassifier(n_estimators=50, criterion='entropy',max_depth=7)\n",
    " \n",
    "acc_score = []\n",
    " \n",
    "for train_index , test_index in kf.split(x_scaled):\n",
    "    X_train , X_test = x_scaled.iloc[train_index,:],x_scaled.iloc[test_index,:]\n",
    "    y_train , y_test = y[train_index] , y[test_index]\n",
    "\n",
    "    clf.fit(X_train,y_train)\n",
    "    pred_values = clf.predict(X_test)\n",
    "     \n",
    "    acc = accuracy_score(pred_values , y_test)\n",
    "    acc_score.append(acc)\n",
    "    print(acc)\n",
    "avg_acc_score = sum(acc_score)/k\n",
    " \n",
    "print('accuracy of each fold - {}'.format(acc_score))\n",
    "print('Avg accuracy : {}'.format(avg_acc_score))"
   ]
  },
  {
   "cell_type": "code",
   "execution_count": 77,
   "metadata": {},
   "outputs": [
    {
     "name": "stdout",
     "output_type": "stream",
     "text": [
      "Epoch 1/1\n",
      "7314/7314 [==============================] - 8s 1ms/step - loss: 0.3476 - accuracy: 0.8690\n"
     ]
    },
    {
     "data": {
      "text/plain": [
       "<keras.callbacks.callbacks.History at 0x25645060ac8>"
      ]
     },
     "execution_count": 77,
     "metadata": {},
     "output_type": "execute_result"
    }
   ],
   "source": [
    "classifier.fit(X_train,y_train)"
   ]
  },
  {
   "cell_type": "code",
   "execution_count": 78,
   "metadata": {},
   "outputs": [],
   "source": [
    "pred = classifier.predict(X_test)"
   ]
  },
  {
   "cell_type": "code",
   "execution_count": 79,
   "metadata": {},
   "outputs": [
    {
     "data": {
      "image/png": "[encoded data removed]",
      "text/plain": [
       "<Figure size 432x288 with 1 Axes>"
      ]
     },
     "metadata": {
      "needs_background": "light"
     },
     "output_type": "display_data"
    }
   ],
   "source": [
    "from sklearn import metrics\n",
    "import matplotlib.pyplot as plt\n",
    "fpr, tpr, _ = metrics.roc_curve(y_test, pred)\n",
    "#create ROC curve\n",
    "plt.plot(fpr,tpr)\n",
    "plt.ylabel('True Positive Rate')\n",
    "plt.xlabel('False Positive Rate')\n",
    "plt.show()"
   ]
  },
  {
   "cell_type": "code",
   "execution_count": null,
   "metadata": {},
   "outputs": [],
   "source": []
  }
 ],
 "metadata": {
  "kernelspec": {
   "display_name": "Python 3",
   "language": "python",
   "name": "python3"
  },
  "language_info": {
   "codemirror_mode": {
    "name": "ipython",
    "version": 3
   },
   "file_extension": ".py",
   "mimetype": "text/x-python",
   "name": "python",
   "nbconvert_exporter": "python",
   "pygments_lexer": "ipython3",
   "version": "3.6.7"
  }
 },
 "nbformat": 4,
 "nbformat_minor": 2
}
